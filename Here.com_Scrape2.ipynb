{
 "cells": [
  {
   "cell_type": "code",
   "execution_count": 1,
   "metadata": {},
   "outputs": [],
   "source": [
    "#Import libraries \n",
    "\n",
    "import json, requests\n",
    "import time, datetime\n",
    "import pandas as pd\n",
    "\n",
    "# Viewing configs for notebook\n",
    "%matplotlib inline\n",
    "%config InlineBackend.print_figure_kwargs={'facecolor' : 'w'}\n",
    "# Code below allows multiple console outputs to be generated without print statements\n",
    "from IPython.core.interactiveshell import InteractiveShell\n",
    "InteractiveShell.ast_node_interactivity = \"all\""
   ]
  },
  {
   "cell_type": "code",
   "execution_count": 2,
   "metadata": {},
   "outputs": [],
   "source": [
    "json_file = open('creds.json')\n",
    "json_str = json_file.read()\n",
    "json_data = json.loads(json_str)"
   ]
  },
  {
   "cell_type": "code",
   "execution_count": 3,
   "metadata": {},
   "outputs": [
    {
     "data": {
      "text/plain": [
       "{'APP_ID': 'MCsTZm6nyIiU66A4alks', 'APP_CODE': 'eedX5DhfpAJzo-30ovwlNA'}"
      ]
     },
     "execution_count": 3,
     "metadata": {},
     "output_type": "execute_result"
    }
   ],
   "source": [
    "json_data"
   ]
  },
  {
   "cell_type": "code",
   "execution_count": 4,
   "metadata": {},
   "outputs": [
    {
     "data": {
      "text/plain": [
       "'eedX5DhfpAJzo-30ovwlNA'"
      ]
     },
     "execution_count": 4,
     "metadata": {},
     "output_type": "execute_result"
    }
   ],
   "source": [
    "json_data['APP_CODE']"
   ]
  },
  {
   "cell_type": "code",
   "execution_count": 5,
   "metadata": {},
   "outputs": [],
   "source": [
    "proximity_coords = \"34.1643%2C-118.6919%2C23664\""
   ]
  },
  {
   "cell_type": "code",
   "execution_count": 6,
   "metadata": {},
   "outputs": [],
   "source": [
    "url = f\"https://traffic.api.here.com/traffic/6.0/incidents.json?prox={proximity_coords}&criticality=critical&app_id={json_data['APP_ID']}&app_code={json_data['APP_CODE']}\"\n",
    "\n",
    "\n",
    "#proximity "
   ]
  },
  {
   "cell_type": "code",
   "execution_count": 7,
   "metadata": {},
   "outputs": [
    {
     "data": {
      "text/plain": [
       "'2019-07-26'"
      ]
     },
     "execution_count": 7,
     "metadata": {},
     "output_type": "execute_result"
    },
    {
     "data": {
      "text/plain": [
       "'14:00'"
      ]
     },
     "execution_count": 7,
     "metadata": {},
     "output_type": "execute_result"
    }
   ],
   "source": [
    "res = requests.get(url)\n",
    "date_requested = time.strftime('%Y-%m-%d')\n",
    "time_requested = time.strftime('%H:%M') # 24-hour format\n",
    "date_requested; time_requested"
   ]
  },
  {
   "cell_type": "code",
   "execution_count": 8,
   "metadata": {},
   "outputs": [
    {
     "data": {
      "text/plain": [
       "200"
      ]
     },
     "execution_count": 8,
     "metadata": {},
     "output_type": "execute_result"
    }
   ],
   "source": [
    "res.status_code"
   ]
  },
  {
   "cell_type": "code",
   "execution_count": 12,
   "metadata": {},
   "outputs": [],
   "source": [
    " new_json = res.json()"
   ]
  },
  {
   "cell_type": "code",
   "execution_count": 13,
   "metadata": {},
   "outputs": [
    {
     "name": "stdout",
     "output_type": "stream",
     "text": [
      "dict_keys(['TIMESTAMP', 'VERSION', 'TRAFFICITEMS'])\n"
     ]
    },
    {
     "data": {
      "text/plain": [
       "dict_keys(['TRAFFICITEM'])"
      ]
     },
     "execution_count": 13,
     "metadata": {},
     "output_type": "execute_result"
    }
   ],
   "source": [
    "print(new_json.keys())\n",
    "new_json['TRAFFICITEMS'].keys()\n",
    "\n",
    "#hmaps_json['TRAFFIC_ITEMS']['TRAFFIC_ITEM'];"
   ]
  },
  {
   "cell_type": "code",
   "execution_count": 14,
   "metadata": {},
   "outputs": [
    {
     "data": {
      "text/plain": [
       "[{'TRAFFICITEMID': 3550270994481212584,\n",
       "  'ORIGINALTRAFFICITEMID': 1490074230888900810,\n",
       "  'TRAFFICITEMSTATUSSHORTDESC': 'ACTIVE',\n",
       "  'TRAFFICITEMTYPEDESC': 'CONSTRUCTION',\n",
       "  'STARTTIME': '09/21/2018 16:00:00',\n",
       "  'ENDTIME': '07/27/2019 01:03:25',\n",
       "  'ENTRYTIME': '07/26/2019 20:05:01',\n",
       "  'CRITICALITY': {'ID': '0', 'DESCRIPTION': 'critical'},\n",
       "  'VERIFIED': True,\n",
       "  'ABBREVIATION': {'SHORTDESC': 'CONST', 'DESCRIPTION': 'construction'},\n",
       "  'LOCATION': {'INTERSECTION': {'ORIGIN': {'ID': '',\n",
       "     'STREET1': {'ADDRESS1': 'Constellation Blvd'},\n",
       "     'STREET2': {'ADDRESS1': 'CA-2'},\n",
       "     'COUNTY': 'Los Angeles',\n",
       "     'STATE': '',\n",
       "     'PROXIMITY': {'ID': 'MID', 'DESCRIPTION': 'midway between'}},\n",
       "    'TO': {'ID': '',\n",
       "     'STREET1': {'ADDRESS1': 'Constellation Blvd'},\n",
       "     'STREET2': {'ADDRESS1': 'Santa Monica Blvd'},\n",
       "     'COUNTY': 'Los Angeles',\n",
       "     'STATE': '',\n",
       "     'PROXIMITY': {'ID': 'MID', 'DESCRIPTION': 'midway between'}}},\n",
       "   'GEOLOC': {'ORIGIN': {'LATITUDE': 34.06034, 'LONGITUDE': -118.41357},\n",
       "    'TO': [{'LATITUDE': 34.05869, 'LONGITUDE': -118.41584}]},\n",
       "   'POLITICALBOUNDARY': {'METROAREA': {'value': '', 'ID': 6},\n",
       "    'COUNTY': 'Los Angeles'},\n",
       "   'NAVTECH': {'EDGE': {'EDGEID': ['870233673',\n",
       "      '870233672',\n",
       "      '1152045209',\n",
       "      '1152045211',\n",
       "      '1152045210']},\n",
       "    'VERSIONID': '201902'}},\n",
       "  'TRAFFICITEMDETAIL': {'ROADCLOSED': True,\n",
       "   'EVENT': {'EVENTITEMCANCELLED': False,\n",
       "    'SCHEDULEDCONSTRUCTIONEVENT': {'SCHEDULEDCONSTRUCTIONTYPEDESC': 'CONSTRUCTION',\n",
       "     'SCHEDULEDCONSTRUCTIONDETAIL': 'construction'}}},\n",
       "  'TRAFFICITEMDESCRIPTION': [{'content': 'Closed between CA-2 and Santa Monica Blvd - Closed due to roadwork.',\n",
       "    'TYPE': 'short_desc'},\n",
       "   {'content': 'Closed between CA-2 and Santa Monica Blvd - Closed due to roadwork.',\n",
       "    'TYPE': 'desc'},\n",
       "   {'content': 'Closed due to roadwork.', 'TYPE': 'no_exit_description'}]},\n",
       " {'TRAFFICITEMID': 3532020189720288880,\n",
       "  'ORIGINALTRAFFICITEMID': 3501104932856112683,\n",
       "  'TRAFFICITEMSTATUSSHORTDESC': 'ACTIVE',\n",
       "  'TRAFFICITEMTYPEDESC': 'CONSTRUCTION',\n",
       "  'STARTTIME': '09/21/2018 16:00:00',\n",
       "  'ENDTIME': '07/27/2019 01:03:25',\n",
       "  'ENTRYTIME': '07/26/2019 20:05:01',\n",
       "  'CRITICALITY': {'ID': '0', 'DESCRIPTION': 'critical'},\n",
       "  'VERIFIED': True,\n",
       "  'ABBREVIATION': {'SHORTDESC': 'CONST', 'DESCRIPTION': 'construction'},\n",
       "  'LOCATION': {'INTERSECTION': {'ORIGIN': {'ID': '',\n",
       "     'STREET1': {'ADDRESS1': 'Constellation Blvd'},\n",
       "     'STREET2': {'ADDRESS1': 'Santa Monica Blvd'},\n",
       "     'COUNTY': 'Los Angeles',\n",
       "     'STATE': '',\n",
       "     'PROXIMITY': {'ID': 'MID', 'DESCRIPTION': 'midway between'}},\n",
       "    'TO': {'ID': '',\n",
       "     'STREET1': {'ADDRESS1': 'Constellation Blvd'},\n",
       "     'STREET2': {'ADDRESS1': 'CA-2'},\n",
       "     'COUNTY': 'Los Angeles',\n",
       "     'STATE': '',\n",
       "     'PROXIMITY': {'ID': 'MID', 'DESCRIPTION': 'midway between'}}},\n",
       "   'GEOLOC': {'ORIGIN': {'LATITUDE': 34.05869, 'LONGITUDE': -118.41584},\n",
       "    'TO': [{'LATITUDE': 34.06034, 'LONGITUDE': -118.41357}]},\n",
       "   'POLITICALBOUNDARY': {'METROAREA': {'value': '', 'ID': 6},\n",
       "    'COUNTY': 'Los Angeles'},\n",
       "   'NAVTECH': {'EDGE': {'EDGEID': ['1152045210',\n",
       "      '1152045211',\n",
       "      '1152045209',\n",
       "      '870233672',\n",
       "      '870233673']},\n",
       "    'VERSIONID': '201902'}},\n",
       "  'TRAFFICITEMDETAIL': {'ROADCLOSED': True,\n",
       "   'EVENT': {'EVENTITEMCANCELLED': False,\n",
       "    'SCHEDULEDCONSTRUCTIONEVENT': {'SCHEDULEDCONSTRUCTIONTYPEDESC': 'CONSTRUCTION',\n",
       "     'SCHEDULEDCONSTRUCTIONDETAIL': 'construction'}}},\n",
       "  'TRAFFICITEMDESCRIPTION': [{'content': 'Closed between Santa Monica Blvd and CA-2 - Closed due to roadwork.',\n",
       "    'TYPE': 'short_desc'},\n",
       "   {'content': 'Closed between Santa Monica Blvd and CA-2 - Closed due to roadwork.',\n",
       "    'TYPE': 'desc'},\n",
       "   {'content': 'Closed due to roadwork.', 'TYPE': 'no_exit_description'}]}]"
      ]
     },
     "execution_count": 14,
     "metadata": {},
     "output_type": "execute_result"
    }
   ],
   "source": [
    "incident_dict = new_json['TRAFFICITEMS']['TRAFFICITEM']\n",
    "incident_dict"
   ]
  },
  {
   "cell_type": "code",
   "execution_count": 15,
   "metadata": {},
   "outputs": [],
   "source": [
    "malibu_incidents2 = pd.DataFrame(incident_dict)"
   ]
  },
  {
   "cell_type": "code",
   "execution_count": 16,
   "metadata": {},
   "outputs": [
    {
     "data": {
      "text/plain": [
       "(2, 13)"
      ]
     },
     "execution_count": 16,
     "metadata": {},
     "output_type": "execute_result"
    }
   ],
   "source": [
    "malibu_incidents2.shape"
   ]
  },
  {
   "cell_type": "code",
   "execution_count": 17,
   "metadata": {},
   "outputs": [
    {
     "data": {
      "text/plain": [
       "ABBREVIATION                  0\n",
       "CRITICALITY                   0\n",
       "ENDTIME                       0\n",
       "ENTRYTIME                     0\n",
       "LOCATION                      0\n",
       "ORIGINALTRAFFICITEMID         0\n",
       "STARTTIME                     0\n",
       "TRAFFICITEMDESCRIPTION        0\n",
       "TRAFFICITEMDETAIL             0\n",
       "TRAFFICITEMID                 0\n",
       "TRAFFICITEMSTATUSSHORTDESC    0\n",
       "TRAFFICITEMTYPEDESC           0\n",
       "VERIFIED                      0\n",
       "dtype: int64"
      ]
     },
     "execution_count": 17,
     "metadata": {},
     "output_type": "execute_result"
    }
   ],
   "source": [
    "malibu_incidents2.isnull().sum()"
   ]
  },
  {
   "cell_type": "code",
   "execution_count": 18,
   "metadata": {},
   "outputs": [],
   "source": [
    "locations = pd.DataFrame(list(malibu_incidents2['LOCATION']))"
   ]
  },
  {
   "cell_type": "code",
   "execution_count": 19,
   "metadata": {},
   "outputs": [
    {
     "data": {
      "text/html": [
       "<div>\n",
       "<style scoped>\n",
       "    .dataframe tbody tr th:only-of-type {\n",
       "        vertical-align: middle;\n",
       "    }\n",
       "\n",
       "    .dataframe tbody tr th {\n",
       "        vertical-align: top;\n",
       "    }\n",
       "\n",
       "    .dataframe thead th {\n",
       "        text-align: right;\n",
       "    }\n",
       "</style>\n",
       "<table border=\"1\" class=\"dataframe\">\n",
       "  <thead>\n",
       "    <tr style=\"text-align: right;\">\n",
       "      <th></th>\n",
       "      <th>GEOLOC</th>\n",
       "      <th>INTERSECTION</th>\n",
       "      <th>NAVTECH</th>\n",
       "      <th>POLITICALBOUNDARY</th>\n",
       "    </tr>\n",
       "  </thead>\n",
       "  <tbody>\n",
       "    <tr>\n",
       "      <th>0</th>\n",
       "      <td>{'ORIGIN': {'LATITUDE': 34.06034, 'LONGITUDE':...</td>\n",
       "      <td>{'ORIGIN': {'ID': '', 'STREET1': {'ADDRESS1': ...</td>\n",
       "      <td>{'EDGE': {'EDGEID': ['870233673', '870233672',...</td>\n",
       "      <td>{'METROAREA': {'value': '', 'ID': 6}, 'COUNTY'...</td>\n",
       "    </tr>\n",
       "    <tr>\n",
       "      <th>1</th>\n",
       "      <td>{'ORIGIN': {'LATITUDE': 34.05869, 'LONGITUDE':...</td>\n",
       "      <td>{'ORIGIN': {'ID': '', 'STREET1': {'ADDRESS1': ...</td>\n",
       "      <td>{'EDGE': {'EDGEID': ['1152045210', '1152045211...</td>\n",
       "      <td>{'METROAREA': {'value': '', 'ID': 6}, 'COUNTY'...</td>\n",
       "    </tr>\n",
       "  </tbody>\n",
       "</table>\n",
       "</div>"
      ],
      "text/plain": [
       "                                              GEOLOC  \\\n",
       "0  {'ORIGIN': {'LATITUDE': 34.06034, 'LONGITUDE':...   \n",
       "1  {'ORIGIN': {'LATITUDE': 34.05869, 'LONGITUDE':...   \n",
       "\n",
       "                                        INTERSECTION  \\\n",
       "0  {'ORIGIN': {'ID': '', 'STREET1': {'ADDRESS1': ...   \n",
       "1  {'ORIGIN': {'ID': '', 'STREET1': {'ADDRESS1': ...   \n",
       "\n",
       "                                             NAVTECH  \\\n",
       "0  {'EDGE': {'EDGEID': ['870233673', '870233672',...   \n",
       "1  {'EDGE': {'EDGEID': ['1152045210', '1152045211...   \n",
       "\n",
       "                                   POLITICALBOUNDARY  \n",
       "0  {'METROAREA': {'value': '', 'ID': 6}, 'COUNTY'...  \n",
       "1  {'METROAREA': {'value': '', 'ID': 6}, 'COUNTY'...  "
      ]
     },
     "execution_count": 19,
     "metadata": {},
     "output_type": "execute_result"
    }
   ],
   "source": [
    "locations.head()"
   ]
  },
  {
   "cell_type": "code",
   "execution_count": 24,
   "metadata": {},
   "outputs": [],
   "source": [
    "intersections = pd.DataFrame(list(locations['INTERSECTION']))"
   ]
  },
  {
   "cell_type": "code",
   "execution_count": 25,
   "metadata": {},
   "outputs": [
    {
     "data": {
      "text/html": [
       "<div>\n",
       "<style scoped>\n",
       "    .dataframe tbody tr th:only-of-type {\n",
       "        vertical-align: middle;\n",
       "    }\n",
       "\n",
       "    .dataframe tbody tr th {\n",
       "        vertical-align: top;\n",
       "    }\n",
       "\n",
       "    .dataframe thead th {\n",
       "        text-align: right;\n",
       "    }\n",
       "</style>\n",
       "<table border=\"1\" class=\"dataframe\">\n",
       "  <thead>\n",
       "    <tr style=\"text-align: right;\">\n",
       "      <th></th>\n",
       "      <th>ORIGIN</th>\n",
       "      <th>TO</th>\n",
       "    </tr>\n",
       "  </thead>\n",
       "  <tbody>\n",
       "    <tr>\n",
       "      <th>0</th>\n",
       "      <td>{'ID': '', 'STREET1': {'ADDRESS1': 'Constellat...</td>\n",
       "      <td>{'ID': '', 'STREET1': {'ADDRESS1': 'Constellat...</td>\n",
       "    </tr>\n",
       "    <tr>\n",
       "      <th>1</th>\n",
       "      <td>{'ID': '', 'STREET1': {'ADDRESS1': 'Constellat...</td>\n",
       "      <td>{'ID': '', 'STREET1': {'ADDRESS1': 'Constellat...</td>\n",
       "    </tr>\n",
       "  </tbody>\n",
       "</table>\n",
       "</div>"
      ],
      "text/plain": [
       "                                              ORIGIN  \\\n",
       "0  {'ID': '', 'STREET1': {'ADDRESS1': 'Constellat...   \n",
       "1  {'ID': '', 'STREET1': {'ADDRESS1': 'Constellat...   \n",
       "\n",
       "                                                  TO  \n",
       "0  {'ID': '', 'STREET1': {'ADDRESS1': 'Constellat...  \n",
       "1  {'ID': '', 'STREET1': {'ADDRESS1': 'Constellat...  "
      ]
     },
     "execution_count": 25,
     "metadata": {},
     "output_type": "execute_result"
    }
   ],
   "source": [
    "intersections.head()"
   ]
  },
  {
   "cell_type": "code",
   "execution_count": 30,
   "metadata": {},
   "outputs": [
    {
     "data": {
      "text/html": [
       "<div>\n",
       "<style scoped>\n",
       "    .dataframe tbody tr th:only-of-type {\n",
       "        vertical-align: middle;\n",
       "    }\n",
       "\n",
       "    .dataframe tbody tr th {\n",
       "        vertical-align: top;\n",
       "    }\n",
       "\n",
       "    .dataframe thead th {\n",
       "        text-align: right;\n",
       "    }\n",
       "</style>\n",
       "<table border=\"1\" class=\"dataframe\">\n",
       "  <thead>\n",
       "    <tr style=\"text-align: right;\">\n",
       "      <th></th>\n",
       "      <th>ID</th>\n",
       "      <th>STREET1</th>\n",
       "      <th>STREET2</th>\n",
       "      <th>COUNTY</th>\n",
       "      <th>STATE</th>\n",
       "      <th>PROXIMITY</th>\n",
       "    </tr>\n",
       "  </thead>\n",
       "  <tbody>\n",
       "    <tr>\n",
       "      <th>0</th>\n",
       "      <td></td>\n",
       "      <td>{'ADDRESS1': 'Constellation Blvd'}</td>\n",
       "      <td>{'ADDRESS1': 'CA-2'}</td>\n",
       "      <td>Los Angeles</td>\n",
       "      <td></td>\n",
       "      <td>{'ID': 'MID', 'DESCRIPTION': 'midway between'}</td>\n",
       "    </tr>\n",
       "    <tr>\n",
       "      <th>1</th>\n",
       "      <td></td>\n",
       "      <td>{'ADDRESS1': 'Constellation Blvd'}</td>\n",
       "      <td>{'ADDRESS1': 'Santa Monica Blvd'}</td>\n",
       "      <td>Los Angeles</td>\n",
       "      <td></td>\n",
       "      <td>{'ID': 'MID', 'DESCRIPTION': 'midway between'}</td>\n",
       "    </tr>\n",
       "  </tbody>\n",
       "</table>\n",
       "</div>"
      ],
      "text/plain": [
       "  ID                             STREET1                            STREET2  \\\n",
       "0     {'ADDRESS1': 'Constellation Blvd'}               {'ADDRESS1': 'CA-2'}   \n",
       "1     {'ADDRESS1': 'Constellation Blvd'}  {'ADDRESS1': 'Santa Monica Blvd'}   \n",
       "\n",
       "        COUNTY STATE                                       PROXIMITY  \n",
       "0  Los Angeles        {'ID': 'MID', 'DESCRIPTION': 'midway between'}  \n",
       "1  Los Angeles        {'ID': 'MID', 'DESCRIPTION': 'midway between'}  "
      ]
     },
     "execution_count": 30,
     "metadata": {},
     "output_type": "execute_result"
    }
   ],
   "source": [
    "intersections['ORIGIN'].apply(pd.Series)"
   ]
  },
  {
   "cell_type": "code",
   "execution_count": 58,
   "metadata": {},
   "outputs": [],
   "source": [
    "geo_coor = pd.DataFrame(list(locations['GEOLOC']))"
   ]
  },
  {
   "cell_type": "code",
   "execution_count": 59,
   "metadata": {},
   "outputs": [
    {
     "data": {
      "text/html": [
       "<div>\n",
       "<style scoped>\n",
       "    .dataframe tbody tr th:only-of-type {\n",
       "        vertical-align: middle;\n",
       "    }\n",
       "\n",
       "    .dataframe tbody tr th {\n",
       "        vertical-align: top;\n",
       "    }\n",
       "\n",
       "    .dataframe thead th {\n",
       "        text-align: right;\n",
       "    }\n",
       "</style>\n",
       "<table border=\"1\" class=\"dataframe\">\n",
       "  <thead>\n",
       "    <tr style=\"text-align: right;\">\n",
       "      <th></th>\n",
       "      <th>ORIGIN</th>\n",
       "      <th>TO</th>\n",
       "    </tr>\n",
       "  </thead>\n",
       "  <tbody>\n",
       "    <tr>\n",
       "      <th>0</th>\n",
       "      <td>{'LATITUDE': 34.05869, 'LONGITUDE': -118.41584}</td>\n",
       "      <td>[{'LATITUDE': 34.06034, 'LONGITUDE': -118.41357}]</td>\n",
       "    </tr>\n",
       "    <tr>\n",
       "      <th>1</th>\n",
       "      <td>{'LATITUDE': 34.04012, 'LONGITUDE': -118.57928}</td>\n",
       "      <td>[{'LATITUDE': 34.082328, 'LONGITUDE': -118.598...</td>\n",
       "    </tr>\n",
       "    <tr>\n",
       "      <th>2</th>\n",
       "      <td>{'LATITUDE': 34.06034, 'LONGITUDE': -118.41357}</td>\n",
       "      <td>[{'LATITUDE': 34.05869, 'LONGITUDE': -118.41584}]</td>\n",
       "    </tr>\n",
       "    <tr>\n",
       "      <th>3</th>\n",
       "      <td>{'LATITUDE': 34.07898, 'LONGITUDE': -118.75556}</td>\n",
       "      <td>[{'LATITUDE': 34.066566, 'LONGITUDE': -118.754...</td>\n",
       "    </tr>\n",
       "    <tr>\n",
       "      <th>4</th>\n",
       "      <td>{'LATITUDE': 34.33766, 'LONGITUDE': -118.5144}</td>\n",
       "      <td>[{'LATITUDE': 34.33527, 'LONGITUDE': -118.51109}]</td>\n",
       "    </tr>\n",
       "    <tr>\n",
       "      <th>5</th>\n",
       "      <td>{'LATITUDE': 34.082328, 'LONGITUDE': -118.598688}</td>\n",
       "      <td>[{'LATITUDE': 34.04012, 'LONGITUDE': -118.57928}]</td>\n",
       "    </tr>\n",
       "    <tr>\n",
       "      <th>6</th>\n",
       "      <td>{'LATITUDE': 34.33527, 'LONGITUDE': -118.51109}</td>\n",
       "      <td>[{'LATITUDE': 34.33973, 'LONGITUDE': -118.50654}]</td>\n",
       "    </tr>\n",
       "  </tbody>\n",
       "</table>\n",
       "</div>"
      ],
      "text/plain": [
       "                                              ORIGIN  \\\n",
       "0    {'LATITUDE': 34.05869, 'LONGITUDE': -118.41584}   \n",
       "1    {'LATITUDE': 34.04012, 'LONGITUDE': -118.57928}   \n",
       "2    {'LATITUDE': 34.06034, 'LONGITUDE': -118.41357}   \n",
       "3    {'LATITUDE': 34.07898, 'LONGITUDE': -118.75556}   \n",
       "4     {'LATITUDE': 34.33766, 'LONGITUDE': -118.5144}   \n",
       "5  {'LATITUDE': 34.082328, 'LONGITUDE': -118.598688}   \n",
       "6    {'LATITUDE': 34.33527, 'LONGITUDE': -118.51109}   \n",
       "\n",
       "                                                  TO  \n",
       "0  [{'LATITUDE': 34.06034, 'LONGITUDE': -118.41357}]  \n",
       "1  [{'LATITUDE': 34.082328, 'LONGITUDE': -118.598...  \n",
       "2  [{'LATITUDE': 34.05869, 'LONGITUDE': -118.41584}]  \n",
       "3  [{'LATITUDE': 34.066566, 'LONGITUDE': -118.754...  \n",
       "4  [{'LATITUDE': 34.33527, 'LONGITUDE': -118.51109}]  \n",
       "5  [{'LATITUDE': 34.04012, 'LONGITUDE': -118.57928}]  \n",
       "6  [{'LATITUDE': 34.33973, 'LONGITUDE': -118.50654}]  "
      ]
     },
     "execution_count": 59,
     "metadata": {},
     "output_type": "execute_result"
    }
   ],
   "source": [
    "geo_coor"
   ]
  },
  {
   "cell_type": "code",
   "execution_count": 62,
   "metadata": {},
   "outputs": [
    {
     "data": {
      "text/plain": [
       "Index(['ORIGIN', 'TO'], dtype='object')"
      ]
     },
     "execution_count": 62,
     "metadata": {},
     "output_type": "execute_result"
    }
   ],
   "source": [
    "geo_coor.keys()"
   ]
  },
  {
   "cell_type": "code",
   "execution_count": 67,
   "metadata": {},
   "outputs": [
    {
     "data": {
      "text/html": [
       "<div>\n",
       "<style scoped>\n",
       "    .dataframe tbody tr th:only-of-type {\n",
       "        vertical-align: middle;\n",
       "    }\n",
       "\n",
       "    .dataframe tbody tr th {\n",
       "        vertical-align: top;\n",
       "    }\n",
       "\n",
       "    .dataframe thead th {\n",
       "        text-align: right;\n",
       "    }\n",
       "</style>\n",
       "<table border=\"1\" class=\"dataframe\">\n",
       "  <thead>\n",
       "    <tr style=\"text-align: right;\">\n",
       "      <th></th>\n",
       "      <th>LATITUDE</th>\n",
       "      <th>LONGITUDE</th>\n",
       "    </tr>\n",
       "  </thead>\n",
       "  <tbody>\n",
       "    <tr>\n",
       "      <th>0</th>\n",
       "      <td>34.058690</td>\n",
       "      <td>-118.415840</td>\n",
       "    </tr>\n",
       "    <tr>\n",
       "      <th>1</th>\n",
       "      <td>34.040120</td>\n",
       "      <td>-118.579280</td>\n",
       "    </tr>\n",
       "    <tr>\n",
       "      <th>2</th>\n",
       "      <td>34.060340</td>\n",
       "      <td>-118.413570</td>\n",
       "    </tr>\n",
       "    <tr>\n",
       "      <th>3</th>\n",
       "      <td>34.078980</td>\n",
       "      <td>-118.755560</td>\n",
       "    </tr>\n",
       "    <tr>\n",
       "      <th>4</th>\n",
       "      <td>34.337660</td>\n",
       "      <td>-118.514400</td>\n",
       "    </tr>\n",
       "    <tr>\n",
       "      <th>5</th>\n",
       "      <td>34.082328</td>\n",
       "      <td>-118.598688</td>\n",
       "    </tr>\n",
       "    <tr>\n",
       "      <th>6</th>\n",
       "      <td>34.335270</td>\n",
       "      <td>-118.511090</td>\n",
       "    </tr>\n",
       "  </tbody>\n",
       "</table>\n",
       "</div>"
      ],
      "text/plain": [
       "    LATITUDE   LONGITUDE\n",
       "0  34.058690 -118.415840\n",
       "1  34.040120 -118.579280\n",
       "2  34.060340 -118.413570\n",
       "3  34.078980 -118.755560\n",
       "4  34.337660 -118.514400\n",
       "5  34.082328 -118.598688\n",
       "6  34.335270 -118.511090"
      ]
     },
     "execution_count": 67,
     "metadata": {},
     "output_type": "execute_result"
    }
   ],
   "source": [
    "origin = geo_coor['ORIGIN'].apply(pd.Series)\n",
    "origin"
   ]
  },
  {
   "cell_type": "code",
   "execution_count": 65,
   "metadata": {},
   "outputs": [
    {
     "data": {
      "text/plain": [
       "0    [{'LATITUDE': 34.06034, 'LONGITUDE': -118.41357}]\n",
       "1    [{'LATITUDE': 34.082328, 'LONGITUDE': -118.598...\n",
       "2    [{'LATITUDE': 34.05869, 'LONGITUDE': -118.41584}]\n",
       "3    [{'LATITUDE': 34.066566, 'LONGITUDE': -118.754...\n",
       "4    [{'LATITUDE': 34.33527, 'LONGITUDE': -118.51109}]\n",
       "5    [{'LATITUDE': 34.04012, 'LONGITUDE': -118.57928}]\n",
       "6    [{'LATITUDE': 34.33973, 'LONGITUDE': -118.50654}]\n",
       "Name: TO, dtype: object"
      ]
     },
     "execution_count": 65,
     "metadata": {},
     "output_type": "execute_result"
    }
   ],
   "source": [
    "geo_coor['TO']"
   ]
  },
  {
   "cell_type": "code",
   "execution_count": 69,
   "metadata": {},
   "outputs": [
    {
     "data": {
      "text/html": [
       "<div>\n",
       "<style scoped>\n",
       "    .dataframe tbody tr th:only-of-type {\n",
       "        vertical-align: middle;\n",
       "    }\n",
       "\n",
       "    .dataframe tbody tr th {\n",
       "        vertical-align: top;\n",
       "    }\n",
       "\n",
       "    .dataframe thead th {\n",
       "        text-align: right;\n",
       "    }\n",
       "</style>\n",
       "<table border=\"1\" class=\"dataframe\">\n",
       "  <thead>\n",
       "    <tr style=\"text-align: right;\">\n",
       "      <th></th>\n",
       "      <th>LATITUDE</th>\n",
       "      <th>LONGITUDE</th>\n",
       "      <th>start_end</th>\n",
       "      <th>incident</th>\n",
       "    </tr>\n",
       "  </thead>\n",
       "  <tbody>\n",
       "    <tr>\n",
       "      <th>0</th>\n",
       "      <td>34.058690</td>\n",
       "      <td>-118.415840</td>\n",
       "      <td>start</td>\n",
       "      <td>0</td>\n",
       "    </tr>\n",
       "    <tr>\n",
       "      <th>1</th>\n",
       "      <td>34.040120</td>\n",
       "      <td>-118.579280</td>\n",
       "      <td>start</td>\n",
       "      <td>1</td>\n",
       "    </tr>\n",
       "    <tr>\n",
       "      <th>2</th>\n",
       "      <td>34.060340</td>\n",
       "      <td>-118.413570</td>\n",
       "      <td>start</td>\n",
       "      <td>2</td>\n",
       "    </tr>\n",
       "    <tr>\n",
       "      <th>3</th>\n",
       "      <td>34.078980</td>\n",
       "      <td>-118.755560</td>\n",
       "      <td>start</td>\n",
       "      <td>3</td>\n",
       "    </tr>\n",
       "    <tr>\n",
       "      <th>4</th>\n",
       "      <td>34.337660</td>\n",
       "      <td>-118.514400</td>\n",
       "      <td>start</td>\n",
       "      <td>4</td>\n",
       "    </tr>\n",
       "    <tr>\n",
       "      <th>5</th>\n",
       "      <td>34.082328</td>\n",
       "      <td>-118.598688</td>\n",
       "      <td>start</td>\n",
       "      <td>5</td>\n",
       "    </tr>\n",
       "    <tr>\n",
       "      <th>6</th>\n",
       "      <td>34.335270</td>\n",
       "      <td>-118.511090</td>\n",
       "      <td>start</td>\n",
       "      <td>6</td>\n",
       "    </tr>\n",
       "  </tbody>\n",
       "</table>\n",
       "</div>"
      ],
      "text/plain": [
       "    LATITUDE   LONGITUDE start_end  incident\n",
       "0  34.058690 -118.415840     start         0\n",
       "1  34.040120 -118.579280     start         1\n",
       "2  34.060340 -118.413570     start         2\n",
       "3  34.078980 -118.755560     start         3\n",
       "4  34.337660 -118.514400     start         4\n",
       "5  34.082328 -118.598688     start         5\n",
       "6  34.335270 -118.511090     start         6"
      ]
     },
     "execution_count": 69,
     "metadata": {},
     "output_type": "execute_result"
    }
   ],
   "source": [
    "# Add a strat/end column and create an incident column thats the index \n",
    "origin['start_end'] = 'start'\n",
    "origin['incident'] = origin.index\n",
    "origin"
   ]
  },
  {
   "cell_type": "code",
   "execution_count": 73,
   "metadata": {},
   "outputs": [],
   "source": [
    "to = pd.DataFrame(s for k, v in geo_coor['TO'].items() for s in v)"
   ]
  },
  {
   "cell_type": "code",
   "execution_count": 75,
   "metadata": {},
   "outputs": [
    {
     "data": {
      "text/html": [
       "<div>\n",
       "<style scoped>\n",
       "    .dataframe tbody tr th:only-of-type {\n",
       "        vertical-align: middle;\n",
       "    }\n",
       "\n",
       "    .dataframe tbody tr th {\n",
       "        vertical-align: top;\n",
       "    }\n",
       "\n",
       "    .dataframe thead th {\n",
       "        text-align: right;\n",
       "    }\n",
       "</style>\n",
       "<table border=\"1\" class=\"dataframe\">\n",
       "  <thead>\n",
       "    <tr style=\"text-align: right;\">\n",
       "      <th></th>\n",
       "      <th>LATITUDE</th>\n",
       "      <th>LONGITUDE</th>\n",
       "      <th>start_end</th>\n",
       "      <th>incident</th>\n",
       "    </tr>\n",
       "  </thead>\n",
       "  <tbody>\n",
       "    <tr>\n",
       "      <th>0</th>\n",
       "      <td>34.060340</td>\n",
       "      <td>-118.413570</td>\n",
       "      <td>end</td>\n",
       "      <td>0</td>\n",
       "    </tr>\n",
       "    <tr>\n",
       "      <th>1</th>\n",
       "      <td>34.082328</td>\n",
       "      <td>-118.598688</td>\n",
       "      <td>end</td>\n",
       "      <td>1</td>\n",
       "    </tr>\n",
       "    <tr>\n",
       "      <th>2</th>\n",
       "      <td>34.058690</td>\n",
       "      <td>-118.415840</td>\n",
       "      <td>end</td>\n",
       "      <td>2</td>\n",
       "    </tr>\n",
       "    <tr>\n",
       "      <th>3</th>\n",
       "      <td>34.066566</td>\n",
       "      <td>-118.754557</td>\n",
       "      <td>end</td>\n",
       "      <td>3</td>\n",
       "    </tr>\n",
       "    <tr>\n",
       "      <th>4</th>\n",
       "      <td>34.335270</td>\n",
       "      <td>-118.511090</td>\n",
       "      <td>end</td>\n",
       "      <td>4</td>\n",
       "    </tr>\n",
       "    <tr>\n",
       "      <th>5</th>\n",
       "      <td>34.040120</td>\n",
       "      <td>-118.579280</td>\n",
       "      <td>end</td>\n",
       "      <td>5</td>\n",
       "    </tr>\n",
       "    <tr>\n",
       "      <th>6</th>\n",
       "      <td>34.339730</td>\n",
       "      <td>-118.506540</td>\n",
       "      <td>end</td>\n",
       "      <td>6</td>\n",
       "    </tr>\n",
       "  </tbody>\n",
       "</table>\n",
       "</div>"
      ],
      "text/plain": [
       "    LATITUDE   LONGITUDE start_end  incident\n",
       "0  34.060340 -118.413570       end         0\n",
       "1  34.082328 -118.598688       end         1\n",
       "2  34.058690 -118.415840       end         2\n",
       "3  34.066566 -118.754557       end         3\n",
       "4  34.335270 -118.511090       end         4\n",
       "5  34.040120 -118.579280       end         5\n",
       "6  34.339730 -118.506540       end         6"
      ]
     },
     "execution_count": 75,
     "metadata": {},
     "output_type": "execute_result"
    }
   ],
   "source": [
    "to['start_end'] = 'end'\n",
    "to['incident'] = to.index\n",
    "to"
   ]
  },
  {
   "cell_type": "code",
   "execution_count": 77,
   "metadata": {
    "scrolled": true
   },
   "outputs": [],
   "source": [
    "total_locations = pd.concat([origin, to])"
   ]
  },
  {
   "cell_type": "code",
   "execution_count": 78,
   "metadata": {},
   "outputs": [],
   "source": [
    "total_locations.to_csv('live_here_locations.csv')"
   ]
  },
  {
   "cell_type": "code",
   "execution_count": null,
   "metadata": {},
   "outputs": [],
   "source": []
  }
 ],
 "metadata": {
  "kernelspec": {
   "display_name": "Python 3",
   "language": "python",
   "name": "python3"
  },
  "language_info": {
   "codemirror_mode": {
    "name": "ipython",
    "version": 3
   },
   "file_extension": ".py",
   "mimetype": "text/x-python",
   "name": "python",
   "nbconvert_exporter": "python",
   "pygments_lexer": "ipython3",
   "version": "3.7.3"
  }
 },
 "nbformat": 4,
 "nbformat_minor": 2
}
