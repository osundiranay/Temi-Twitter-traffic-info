{
 "cells": [
  {
   "cell_type": "markdown",
   "metadata": {},
   "source": [
    "### Imports ###"
   ]
  },
  {
   "cell_type": "code",
   "execution_count": 1,
   "metadata": {},
   "outputs": [],
   "source": [
    "import pandas as pd\n",
    "import regex as re\n",
    "from datetime import datetime\n",
    "import time"
   ]
  },
  {
   "cell_type": "markdown",
   "metadata": {},
   "source": [
    "### Read in Tweepy Scrape ###"
   ]
  },
  {
   "cell_type": "code",
   "execution_count": 2,
   "metadata": {},
   "outputs": [],
   "source": [
    "df = pd.read_csv('first_scrape.csv')"
   ]
  },
  {
   "cell_type": "code",
   "execution_count": 3,
   "metadata": {},
   "outputs": [
    {
     "data": {
      "text/html": [
       "<div>\n",
       "<style scoped>\n",
       "    .dataframe tbody tr th:only-of-type {\n",
       "        vertical-align: middle;\n",
       "    }\n",
       "\n",
       "    .dataframe tbody tr th {\n",
       "        vertical-align: top;\n",
       "    }\n",
       "\n",
       "    .dataframe thead th {\n",
       "        text-align: right;\n",
       "    }\n",
       "</style>\n",
       "<table border=\"1\" class=\"dataframe\">\n",
       "  <thead>\n",
       "    <tr style=\"text-align: right;\">\n",
       "      <th></th>\n",
       "      <th>Tweet Text</th>\n",
       "      <th>Author</th>\n",
       "      <th>Coordinates</th>\n",
       "      <th>Hashtags (Location)</th>\n",
       "      <th>Creation Time (UTC)</th>\n",
       "    </tr>\n",
       "  </thead>\n",
       "  <tbody>\n",
       "    <tr>\n",
       "      <th>0</th>\n",
       "      <td>A crash is blocking the carpool lane. in #Arca...</td>\n",
       "      <td>TotalTrafficLA</td>\n",
       "      <td>[34.14892, -118.0632]</td>\n",
       "      <td>['Arcadia']</td>\n",
       "      <td>2019-07-29 16:23:49</td>\n",
       "    </tr>\n",
       "    <tr>\n",
       "      <th>1</th>\n",
       "      <td>A crash is blocking the carpool lane. in #Arca...</td>\n",
       "      <td>TotalTrafficLA</td>\n",
       "      <td>[34.14892, -118.0632]</td>\n",
       "      <td>['Arcadia']</td>\n",
       "      <td>2019-07-29 16:12:13</td>\n",
       "    </tr>\n",
       "    <tr>\n",
       "      <th>2</th>\n",
       "      <td>A crash is blocking the three left lanes. in #...</td>\n",
       "      <td>TotalTrafficLA</td>\n",
       "      <td>[34.06873, -117.8612]</td>\n",
       "      <td>['WestCovina']</td>\n",
       "      <td>2019-07-29 15:54:37</td>\n",
       "    </tr>\n",
       "    <tr>\n",
       "      <th>3</th>\n",
       "      <td>A motorcycle crash was moved to the right shou...</td>\n",
       "      <td>TotalTrafficLA</td>\n",
       "      <td>[33.97027, -118.3747]</td>\n",
       "      <td>['Westchester']</td>\n",
       "      <td>2019-07-29 15:19:49</td>\n",
       "    </tr>\n",
       "    <tr>\n",
       "      <th>4</th>\n",
       "      <td>A motorcycle crash is blocking the left lane. ...</td>\n",
       "      <td>TotalTrafficLA</td>\n",
       "      <td>[33.97027, -118.3747]</td>\n",
       "      <td>['Westchester']</td>\n",
       "      <td>2019-07-29 14:53:08</td>\n",
       "    </tr>\n",
       "  </tbody>\n",
       "</table>\n",
       "</div>"
      ],
      "text/plain": [
       "                                          Tweet Text          Author  \\\n",
       "0  A crash is blocking the carpool lane. in #Arca...  TotalTrafficLA   \n",
       "1  A crash is blocking the carpool lane. in #Arca...  TotalTrafficLA   \n",
       "2  A crash is blocking the three left lanes. in #...  TotalTrafficLA   \n",
       "3  A motorcycle crash was moved to the right shou...  TotalTrafficLA   \n",
       "4  A motorcycle crash is blocking the left lane. ...  TotalTrafficLA   \n",
       "\n",
       "             Coordinates Hashtags (Location)  Creation Time (UTC)  \n",
       "0  [34.14892, -118.0632]         ['Arcadia']  2019-07-29 16:23:49  \n",
       "1  [34.14892, -118.0632]         ['Arcadia']  2019-07-29 16:12:13  \n",
       "2  [34.06873, -117.8612]      ['WestCovina']  2019-07-29 15:54:37  \n",
       "3  [33.97027, -118.3747]     ['Westchester']  2019-07-29 15:19:49  \n",
       "4  [33.97027, -118.3747]     ['Westchester']  2019-07-29 14:53:08  "
      ]
     },
     "execution_count": 3,
     "metadata": {},
     "output_type": "execute_result"
    }
   ],
   "source": [
    "df.head()"
   ]
  },
  {
   "cell_type": "code",
   "execution_count": 4,
   "metadata": {},
   "outputs": [
    {
     "data": {
      "text/plain": [
       "(63, 5)"
      ]
     },
     "execution_count": 4,
     "metadata": {},
     "output_type": "execute_result"
    }
   ],
   "source": [
    "df.shape"
   ]
  },
  {
   "cell_type": "markdown",
   "metadata": {},
   "source": [
    "### Remove Tweets Involving Re-opens ###"
   ]
  },
  {
   "cell_type": "code",
   "execution_count": 5,
   "metadata": {},
   "outputs": [],
   "source": [
    "def bad_tweet(tweet_text):\n",
    "    delete = 0\n",
    "    for i in ['clear', 'reopen']:\n",
    "        if i in tweet_text:\n",
    "            delete=1\n",
    "    if delete:\n",
    "        return True\n",
    "    else:\n",
    "        return False"
   ]
  },
  {
   "cell_type": "code",
   "execution_count": 6,
   "metadata": {},
   "outputs": [],
   "source": [
    "df['bad tweet'] = df['Tweet Text'].apply(bad_tweet)"
   ]
  },
  {
   "cell_type": "code",
   "execution_count": 7,
   "metadata": {},
   "outputs": [],
   "source": [
    "df = df[df['bad tweet']==False]"
   ]
  },
  {
   "cell_type": "code",
   "execution_count": 8,
   "metadata": {},
   "outputs": [],
   "source": [
    "df.drop(labels=['bad tweet'],axis=1,inplace=True)"
   ]
  },
  {
   "cell_type": "code",
   "execution_count": 9,
   "metadata": {},
   "outputs": [
    {
     "data": {
      "text/html": [
       "<div>\n",
       "<style scoped>\n",
       "    .dataframe tbody tr th:only-of-type {\n",
       "        vertical-align: middle;\n",
       "    }\n",
       "\n",
       "    .dataframe tbody tr th {\n",
       "        vertical-align: top;\n",
       "    }\n",
       "\n",
       "    .dataframe thead th {\n",
       "        text-align: right;\n",
       "    }\n",
       "</style>\n",
       "<table border=\"1\" class=\"dataframe\">\n",
       "  <thead>\n",
       "    <tr style=\"text-align: right;\">\n",
       "      <th></th>\n",
       "      <th>Tweet Text</th>\n",
       "      <th>Author</th>\n",
       "      <th>Coordinates</th>\n",
       "      <th>Hashtags (Location)</th>\n",
       "      <th>Creation Time (UTC)</th>\n",
       "    </tr>\n",
       "  </thead>\n",
       "  <tbody>\n",
       "    <tr>\n",
       "      <th>0</th>\n",
       "      <td>A crash is blocking the carpool lane. in #Arca...</td>\n",
       "      <td>TotalTrafficLA</td>\n",
       "      <td>[34.14892, -118.0632]</td>\n",
       "      <td>['Arcadia']</td>\n",
       "      <td>2019-07-29 16:23:49</td>\n",
       "    </tr>\n",
       "    <tr>\n",
       "      <th>1</th>\n",
       "      <td>A crash is blocking the carpool lane. in #Arca...</td>\n",
       "      <td>TotalTrafficLA</td>\n",
       "      <td>[34.14892, -118.0632]</td>\n",
       "      <td>['Arcadia']</td>\n",
       "      <td>2019-07-29 16:12:13</td>\n",
       "    </tr>\n",
       "    <tr>\n",
       "      <th>2</th>\n",
       "      <td>A crash is blocking the three left lanes. in #...</td>\n",
       "      <td>TotalTrafficLA</td>\n",
       "      <td>[34.06873, -117.8612]</td>\n",
       "      <td>['WestCovina']</td>\n",
       "      <td>2019-07-29 15:54:37</td>\n",
       "    </tr>\n",
       "    <tr>\n",
       "      <th>3</th>\n",
       "      <td>A motorcycle crash was moved to the right shou...</td>\n",
       "      <td>TotalTrafficLA</td>\n",
       "      <td>[33.97027, -118.3747]</td>\n",
       "      <td>['Westchester']</td>\n",
       "      <td>2019-07-29 15:19:49</td>\n",
       "    </tr>\n",
       "    <tr>\n",
       "      <th>4</th>\n",
       "      <td>A motorcycle crash is blocking the left lane. ...</td>\n",
       "      <td>TotalTrafficLA</td>\n",
       "      <td>[33.97027, -118.3747]</td>\n",
       "      <td>['Westchester']</td>\n",
       "      <td>2019-07-29 14:53:08</td>\n",
       "    </tr>\n",
       "  </tbody>\n",
       "</table>\n",
       "</div>"
      ],
      "text/plain": [
       "                                          Tweet Text          Author  \\\n",
       "0  A crash is blocking the carpool lane. in #Arca...  TotalTrafficLA   \n",
       "1  A crash is blocking the carpool lane. in #Arca...  TotalTrafficLA   \n",
       "2  A crash is blocking the three left lanes. in #...  TotalTrafficLA   \n",
       "3  A motorcycle crash was moved to the right shou...  TotalTrafficLA   \n",
       "4  A motorcycle crash is blocking the left lane. ...  TotalTrafficLA   \n",
       "\n",
       "             Coordinates Hashtags (Location)  Creation Time (UTC)  \n",
       "0  [34.14892, -118.0632]         ['Arcadia']  2019-07-29 16:23:49  \n",
       "1  [34.14892, -118.0632]         ['Arcadia']  2019-07-29 16:12:13  \n",
       "2  [34.06873, -117.8612]      ['WestCovina']  2019-07-29 15:54:37  \n",
       "3  [33.97027, -118.3747]     ['Westchester']  2019-07-29 15:19:49  \n",
       "4  [33.97027, -118.3747]     ['Westchester']  2019-07-29 14:53:08  "
      ]
     },
     "execution_count": 9,
     "metadata": {},
     "output_type": "execute_result"
    }
   ],
   "source": [
    "df.head()"
   ]
  },
  {
   "cell_type": "code",
   "execution_count": 10,
   "metadata": {},
   "outputs": [
    {
     "data": {
      "text/plain": [
       "(57, 5)"
      ]
     },
     "execution_count": 10,
     "metadata": {},
     "output_type": "execute_result"
    }
   ],
   "source": [
    "df.shape"
   ]
  },
  {
   "cell_type": "markdown",
   "metadata": {},
   "source": [
    "### Functions to Parse Tweets ###"
   ]
  },
  {
   "cell_type": "code",
   "execution_count": 11,
   "metadata": {},
   "outputs": [],
   "source": [
    "#Function to identify what road is closed\n",
    "def find_road_improved(text):\n",
    "    #Split string on the word on\n",
    "    on_split = text.split(' on ') \n",
    "    if len(on_split) == 1:\n",
    "        return None\n",
    "    else:\n",
    "        #return the first 2 words after the word on\n",
    "        output = \" \".join(on_split[1].split(\" \")[0:2])\n",
    "        #check if the first character of the 2 word string is a number or a capital I, H, U\n",
    "        if bool(re.match(r'[HIU0-9]',output)):\n",
    "            return output"
   ]
  },
  {
   "cell_type": "code",
   "execution_count": 12,
   "metadata": {},
   "outputs": [],
   "source": [
    "#Function to identify the starting point of the road closure\n",
    "def find_start_improved(text):\n",
    "    #Split string on the word on, the starting point of the road closure should be after this\n",
    "    on_split = text.split(' on ')\n",
    "    if len(on_split) == 1:\n",
    "        return None\n",
    "    else:\n",
    "        #Generally the starting point of the road closure is after the word \"on\", before the comma and after one\n",
    "        #of the following words\n",
    "        comma_split = on_split[1].split(\",\")[0]\n",
    "        if len(comma_split.split(\" at \")) > 1:\n",
    "            return comma_split.split(\" at \")[1].split(\" and\")[0].split(\" #\")[0]\n",
    "        elif len(comma_split.split(\" before \")) > 1:\n",
    "            return comma_split.split(\" before \")[1].split(\" and\")[0].split(\" #\")[0]\n",
    "        elif len(comma_split.split(\" after \")) > 1:\n",
    "            return comma_split.split(\" after \")[1].split(\" and\")[0].split(\" #\")[0]\n",
    "        elif len(comma_split.split(\" between \")) > 1:\n",
    "            return comma_split.split(\" between \")[1].split(\" and\")[0].split(\" #\")[0]\n",
    "        elif len(comma_split.split(\" approaching \")) > 1:\n",
    "            return comma_split.split(\" approaching \")[1].split(\" and\")[0].split(\" #\")[0]"
   ]
  },
  {
   "cell_type": "code",
   "execution_count": 13,
   "metadata": {},
   "outputs": [],
   "source": [
    "#Function to identify the ending point of the road closure\n",
    "def find_end_improved(text):\n",
    "    #Split string on the word on, the starting point of the road closure should be after this\n",
    "    on_split = text.split(' on ')\n",
    "    if len(on_split) == 1:\n",
    "        return None\n",
    "    else:\n",
    "        #Generally the ending point of the road closure is after the word \"on\" and after either the word \"to\" or \"and\"\n",
    "        after_on = on_split[1]\n",
    "        if len(after_on.split(\" to \")) > 1:\n",
    "            return after_on.split(\" to \")[1].split(\",\")[0].split(\" #\")[0]\n",
    "        elif len(after_on.split(\" and \")) > 1:\n",
    "            return after_on.split(\" and \")[1].split(\",\")[0].split(\" #\")[0]"
   ]
  },
  {
   "cell_type": "code",
   "execution_count": 14,
   "metadata": {},
   "outputs": [],
   "source": [
    "#Function to convert UTC timestamp to local timestamp\n",
    "#Function obtained from this stackoverflow post\n",
    "#https://stackoverflow.com/questions/4770297/convert-utc-datetime-string-to-local-datetime\n",
    "\n",
    "def datetime_from_utc_to_local(utc_datetime):\n",
    "    now_timestamp = time.time()\n",
    "    offset = datetime.fromtimestamp(now_timestamp) - datetime.utcfromtimestamp(now_timestamp)\n",
    "    return utc_datetime + offset"
   ]
  },
  {
   "cell_type": "markdown",
   "metadata": {},
   "source": [
    "### Apply functions to dataframe ###"
   ]
  },
  {
   "cell_type": "code",
   "execution_count": 16,
   "metadata": {},
   "outputs": [],
   "source": [
    "df['Closed Road'] = df['Tweet Text'].apply(find_road_improved)"
   ]
  },
  {
   "cell_type": "code",
   "execution_count": 17,
   "metadata": {},
   "outputs": [],
   "source": [
    "df['Start Point Of Closure'] = df['Tweet Text'].apply(find_start_improved)"
   ]
  },
  {
   "cell_type": "code",
   "execution_count": 18,
   "metadata": {},
   "outputs": [],
   "source": [
    "df['End Point Of Closure'] = df['Tweet Text'].apply(find_end_improved)"
   ]
  },
  {
   "cell_type": "code",
   "execution_count": 19,
   "metadata": {},
   "outputs": [],
   "source": [
    "df['date'] = pd.to_datetime(df['Creation Time (UTC)'])\n",
    "df['Creation Time'] = df['date'].apply(datetime_from_utc_to_local)"
   ]
  },
  {
   "cell_type": "code",
   "execution_count": 20,
   "metadata": {},
   "outputs": [],
   "source": [
    "df.drop(labels=['Creation Time (UTC)','date'],axis=1,inplace=True)"
   ]
  },
  {
   "cell_type": "code",
   "execution_count": 21,
   "metadata": {},
   "outputs": [
    {
     "data": {
      "text/html": [
       "<div>\n",
       "<style scoped>\n",
       "    .dataframe tbody tr th:only-of-type {\n",
       "        vertical-align: middle;\n",
       "    }\n",
       "\n",
       "    .dataframe tbody tr th {\n",
       "        vertical-align: top;\n",
       "    }\n",
       "\n",
       "    .dataframe thead th {\n",
       "        text-align: right;\n",
       "    }\n",
       "</style>\n",
       "<table border=\"1\" class=\"dataframe\">\n",
       "  <thead>\n",
       "    <tr style=\"text-align: right;\">\n",
       "      <th></th>\n",
       "      <th>Tweet Text</th>\n",
       "      <th>Author</th>\n",
       "      <th>Coordinates</th>\n",
       "      <th>Hashtags (Location)</th>\n",
       "      <th>Closed Road</th>\n",
       "      <th>Start Point Of Closure</th>\n",
       "      <th>End Point Of Closure</th>\n",
       "      <th>Creation Time</th>\n",
       "    </tr>\n",
       "  </thead>\n",
       "  <tbody>\n",
       "    <tr>\n",
       "      <th>0</th>\n",
       "      <td>A crash is blocking the carpool lane. in #Arca...</td>\n",
       "      <td>TotalTrafficLA</td>\n",
       "      <td>[34.14892, -118.0632]</td>\n",
       "      <td>['Arcadia']</td>\n",
       "      <td>210 EB</td>\n",
       "      <td>Michillinda Ave</td>\n",
       "      <td>Sierra Madre</td>\n",
       "      <td>2019-07-29 09:23:49</td>\n",
       "    </tr>\n",
       "    <tr>\n",
       "      <th>1</th>\n",
       "      <td>A crash is blocking the carpool lane. in #Arca...</td>\n",
       "      <td>TotalTrafficLA</td>\n",
       "      <td>[34.14892, -118.0632]</td>\n",
       "      <td>['Arcadia']</td>\n",
       "      <td>210 EB</td>\n",
       "      <td>Michillinda Ave</td>\n",
       "      <td>Madre St</td>\n",
       "      <td>2019-07-29 09:12:13</td>\n",
       "    </tr>\n",
       "    <tr>\n",
       "      <th>2</th>\n",
       "      <td>A crash is blocking the three left lanes. in #...</td>\n",
       "      <td>TotalTrafficLA</td>\n",
       "      <td>[34.06873, -117.8612]</td>\n",
       "      <td>['WestCovina']</td>\n",
       "      <td>I-10 WB</td>\n",
       "      <td>Holt Ave</td>\n",
       "      <td>Via Verde</td>\n",
       "      <td>2019-07-29 08:54:37</td>\n",
       "    </tr>\n",
       "    <tr>\n",
       "      <th>3</th>\n",
       "      <td>A motorcycle crash was moved to the right shou...</td>\n",
       "      <td>TotalTrafficLA</td>\n",
       "      <td>[33.97027, -118.3747]</td>\n",
       "      <td>['Westchester']</td>\n",
       "      <td>405 NB</td>\n",
       "      <td>La Tijera Blvd</td>\n",
       "      <td>Century Blvd</td>\n",
       "      <td>2019-07-29 08:19:49</td>\n",
       "    </tr>\n",
       "    <tr>\n",
       "      <th>4</th>\n",
       "      <td>A motorcycle crash is blocking the left lane. ...</td>\n",
       "      <td>TotalTrafficLA</td>\n",
       "      <td>[33.97027, -118.3747]</td>\n",
       "      <td>['Westchester']</td>\n",
       "      <td>405 NB</td>\n",
       "      <td>La Tijera Blvd</td>\n",
       "      <td>Century Blvd</td>\n",
       "      <td>2019-07-29 07:53:08</td>\n",
       "    </tr>\n",
       "  </tbody>\n",
       "</table>\n",
       "</div>"
      ],
      "text/plain": [
       "                                          Tweet Text          Author  \\\n",
       "0  A crash is blocking the carpool lane. in #Arca...  TotalTrafficLA   \n",
       "1  A crash is blocking the carpool lane. in #Arca...  TotalTrafficLA   \n",
       "2  A crash is blocking the three left lanes. in #...  TotalTrafficLA   \n",
       "3  A motorcycle crash was moved to the right shou...  TotalTrafficLA   \n",
       "4  A motorcycle crash is blocking the left lane. ...  TotalTrafficLA   \n",
       "\n",
       "             Coordinates Hashtags (Location) Closed Road  \\\n",
       "0  [34.14892, -118.0632]         ['Arcadia']      210 EB   \n",
       "1  [34.14892, -118.0632]         ['Arcadia']      210 EB   \n",
       "2  [34.06873, -117.8612]      ['WestCovina']     I-10 WB   \n",
       "3  [33.97027, -118.3747]     ['Westchester']      405 NB   \n",
       "4  [33.97027, -118.3747]     ['Westchester']      405 NB   \n",
       "\n",
       "  Start Point Of Closure End Point Of Closure       Creation Time  \n",
       "0        Michillinda Ave         Sierra Madre 2019-07-29 09:23:49  \n",
       "1        Michillinda Ave             Madre St 2019-07-29 09:12:13  \n",
       "2               Holt Ave            Via Verde 2019-07-29 08:54:37  \n",
       "3         La Tijera Blvd         Century Blvd 2019-07-29 08:19:49  \n",
       "4         La Tijera Blvd         Century Blvd 2019-07-29 07:53:08  "
      ]
     },
     "execution_count": 21,
     "metadata": {},
     "output_type": "execute_result"
    }
   ],
   "source": [
    "df.head()"
   ]
  },
  {
   "cell_type": "code",
   "execution_count": 22,
   "metadata": {},
   "outputs": [],
   "source": [
    "#Above functions can return a None of if they don't find appropriate data, dropping those rows\n",
    "df.dropna(inplace=True)"
   ]
  },
  {
   "cell_type": "code",
   "execution_count": 23,
   "metadata": {},
   "outputs": [],
   "source": [
    "#Remove duplicate data\n",
    "df.drop_duplicates(subset='Coordinates',inplace=True)"
   ]
  },
  {
   "cell_type": "code",
   "execution_count": 24,
   "metadata": {},
   "outputs": [
    {
     "data": {
      "text/plain": [
       "(35, 8)"
      ]
     },
     "execution_count": 24,
     "metadata": {},
     "output_type": "execute_result"
    }
   ],
   "source": [
    "df.shape"
   ]
  },
  {
   "cell_type": "code",
   "execution_count": 27,
   "metadata": {},
   "outputs": [],
   "source": [
    "#Output to CSV\n",
    "df.to_csv('Twitter_Output_For_Dataframe.csv')"
   ]
  },
  {
   "cell_type": "code",
   "execution_count": null,
   "metadata": {},
   "outputs": [],
   "source": []
  }
 ],
 "metadata": {
  "kernelspec": {
   "display_name": "Python 3",
   "language": "python",
   "name": "python3"
  },
  "language_info": {
   "codemirror_mode": {
    "name": "ipython",
    "version": 3
   },
   "file_extension": ".py",
   "mimetype": "text/x-python",
   "name": "python",
   "nbconvert_exporter": "python",
   "pygments_lexer": "ipython3",
   "version": "3.7.3"
  }
 },
 "nbformat": 4,
 "nbformat_minor": 2
}
