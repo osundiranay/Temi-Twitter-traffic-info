{
 "cells": [
  {
   "cell_type": "markdown",
   "metadata": {},
   "source": [
    "Much of the idea of this code and some of the code itself was taken from the DC-2 group's project found here: https://github.com/ariellem2/Disaster_Response_Maps"
   ]
  },
  {
   "cell_type": "code",
   "execution_count": 1,
   "metadata": {},
   "outputs": [],
   "source": [
    "#Imports\n",
    "\n",
    "import pandas as pd\n",
    "import regex as re\n",
    "from nltk.stem import WordNetLemmatizer\n",
    "from nltk.tokenize import RegexpTokenizer"
   ]
  },
  {
   "cell_type": "code",
   "execution_count": 2,
   "metadata": {},
   "outputs": [],
   "source": [
    "#Load in full twitter scrape\n",
    "\n",
    "df = pd.read_csv('FullWoosleyTweets.csv')"
   ]
  },
  {
   "cell_type": "code",
   "execution_count": 3,
   "metadata": {},
   "outputs": [
    {
     "data": {
      "text/html": [
       "<div>\n",
       "<style scoped>\n",
       "    .dataframe tbody tr th:only-of-type {\n",
       "        vertical-align: middle;\n",
       "    }\n",
       "\n",
       "    .dataframe tbody tr th {\n",
       "        vertical-align: top;\n",
       "    }\n",
       "\n",
       "    .dataframe thead th {\n",
       "        text-align: right;\n",
       "    }\n",
       "</style>\n",
       "<table border=\"1\" class=\"dataframe\">\n",
       "  <thead>\n",
       "    <tr style=\"text-align: right;\">\n",
       "      <th></th>\n",
       "      <th>Full Text</th>\n",
       "      <th>Author</th>\n",
       "      <th>Creation Time</th>\n",
       "      <th>Hashtags</th>\n",
       "    </tr>\n",
       "  </thead>\n",
       "  <tbody>\n",
       "    <tr>\n",
       "      <th>0</th>\n",
       "      <td>Autumn Sun | sailor_marimoon soaking up some g...</td>\n",
       "      <td>StormulaOne</td>\n",
       "      <td>Fri Nov 30 20:16:20 +0000 2018</td>\n",
       "      <td>NaN</td>\n",
       "    </tr>\n",
       "    <tr>\n",
       "      <th>1</th>\n",
       "      <td>!!woolsey fire!! all lanes shutdown until furt...</td>\n",
       "      <td>TotalTrafficLA</td>\n",
       "      <td>Fri Nov 30 12:16:39 +0000 2018</td>\n",
       "      <td>#Malibu #LAtraffic</td>\n",
       "    </tr>\n",
       "    <tr>\n",
       "      <th>2</th>\n",
       "      <td>!!woolsey fire!! all lanes shutdown until furt...</td>\n",
       "      <td>TotalTrafficLA</td>\n",
       "      <td>Fri Nov 30 12:16:38 +0000 2018</td>\n",
       "      <td>#Malibu #LAtraffic</td>\n",
       "    </tr>\n",
       "    <tr>\n",
       "      <th>3</th>\n",
       "      <td>Nov 8th the Woolsey fire broke out and burned ...</td>\n",
       "      <td>irishcntrychic3</td>\n",
       "      <td>Fri Nov 30 04:18:35 +0000 2018</td>\n",
       "      <td>NaN</td>\n",
       "    </tr>\n",
       "    <tr>\n",
       "      <th>4</th>\n",
       "      <td>Yes! This is one of the groups the boys &amp; I he...</td>\n",
       "      <td>BondKathi</td>\n",
       "      <td>Thu Nov 29 05:01:38 +0000 2018</td>\n",
       "      <td>#Repost</td>\n",
       "    </tr>\n",
       "  </tbody>\n",
       "</table>\n",
       "</div>"
      ],
      "text/plain": [
       "                                           Full Text           Author  \\\n",
       "0  Autumn Sun | sailor_marimoon soaking up some g...      StormulaOne   \n",
       "1  !!woolsey fire!! all lanes shutdown until furt...   TotalTrafficLA   \n",
       "2  !!woolsey fire!! all lanes shutdown until furt...   TotalTrafficLA   \n",
       "3  Nov 8th the Woolsey fire broke out and burned ...  irishcntrychic3   \n",
       "4  Yes! This is one of the groups the boys & I he...        BondKathi   \n",
       "\n",
       "                    Creation Time            Hashtags  \n",
       "0  Fri Nov 30 20:16:20 +0000 2018                 NaN  \n",
       "1  Fri Nov 30 12:16:39 +0000 2018  #Malibu #LAtraffic  \n",
       "2  Fri Nov 30 12:16:38 +0000 2018  #Malibu #LAtraffic  \n",
       "3  Fri Nov 30 04:18:35 +0000 2018                 NaN  \n",
       "4  Thu Nov 29 05:01:38 +0000 2018             #Repost  "
      ]
     },
     "execution_count": 3,
     "metadata": {},
     "output_type": "execute_result"
    }
   ],
   "source": [
    "#Confirm data looks good\n",
    "df.head()"
   ]
  },
  {
   "cell_type": "code",
   "execution_count": 4,
   "metadata": {},
   "outputs": [
    {
     "data": {
      "text/plain": [
       "'!!woolsey fire!! all lanes shutdown until further notice in #Malibu on Hwy 23 SB between Mulholland Hwy and CA-1 #LAtraffic'"
      ]
     },
     "execution_count": 4,
     "metadata": {},
     "output_type": "execute_result"
    }
   ],
   "source": [
    "#Examine why lines 1 and 2 look duplicate\n",
    "df.loc[1,\"Full Text\"]"
   ]
  },
  {
   "cell_type": "code",
   "execution_count": 5,
   "metadata": {},
   "outputs": [
    {
     "data": {
      "text/plain": [
       "'!!woolsey fire!! all lanes shutdown until further notice in #Malibu on Hwy 23 NB between CA-1 and Mulholland Hwy #LAtraffic'"
      ]
     },
     "execution_count": 5,
     "metadata": {},
     "output_type": "execute_result"
    }
   ],
   "source": [
    "df.loc[2,\"Full Text\"]"
   ]
  },
  {
   "cell_type": "code",
   "execution_count": 6,
   "metadata": {},
   "outputs": [],
   "source": [
    "#instantiate tokenizer and lemmatizer\n",
    "tokenizer = RegexpTokenizer('\\s+', gaps=True)\n",
    "lemmatizer = WordNetLemmatizer()"
   ]
  },
  {
   "cell_type": "code",
   "execution_count": 7,
   "metadata": {},
   "outputs": [],
   "source": [
    "#function that removes websites, removes punctionation (except hashbags), coverts text to lowercase, and lemmatizes\n",
    "def processText(raw_text):\n",
    "    \n",
    "    tokens = tokenizer.tokenize(raw_text)\n",
    "    \n",
    "    token_new=[]\n",
    "    \n",
    "    for token in tokens:\n",
    "        if 'http' in token: #remove webaddress\n",
    "            pass\n",
    "        else:\n",
    "            result = re.sub(\"[^A-Za-z0-9#]\", \"\",token.lower())\n",
    "            if result != '':\n",
    "                token_new.append(lemmatizer.lemmatize(result))\n",
    "    \n",
    "    return(\" \".join(token_new))"
   ]
  },
  {
   "cell_type": "code",
   "execution_count": 8,
   "metadata": {},
   "outputs": [],
   "source": [
    "#apply function to Full Text column\n",
    "df['text'] = df['Full Text'].apply(processText)"
   ]
  },
  {
   "cell_type": "code",
   "execution_count": 9,
   "metadata": {},
   "outputs": [
    {
     "data": {
      "text/html": [
       "<div>\n",
       "<style scoped>\n",
       "    .dataframe tbody tr th:only-of-type {\n",
       "        vertical-align: middle;\n",
       "    }\n",
       "\n",
       "    .dataframe tbody tr th {\n",
       "        vertical-align: top;\n",
       "    }\n",
       "\n",
       "    .dataframe thead th {\n",
       "        text-align: right;\n",
       "    }\n",
       "</style>\n",
       "<table border=\"1\" class=\"dataframe\">\n",
       "  <thead>\n",
       "    <tr style=\"text-align: right;\">\n",
       "      <th></th>\n",
       "      <th>Full Text</th>\n",
       "      <th>Author</th>\n",
       "      <th>Creation Time</th>\n",
       "      <th>Hashtags</th>\n",
       "      <th>text</th>\n",
       "    </tr>\n",
       "  </thead>\n",
       "  <tbody>\n",
       "    <tr>\n",
       "      <th>0</th>\n",
       "      <td>Autumn Sun | sailor_marimoon soaking up some g...</td>\n",
       "      <td>StormulaOne</td>\n",
       "      <td>Fri Nov 30 20:16:20 +0000 2018</td>\n",
       "      <td>NaN</td>\n",
       "      <td>autumn sun sailormarimoon soaking up some gold...</td>\n",
       "    </tr>\n",
       "    <tr>\n",
       "      <th>1</th>\n",
       "      <td>!!woolsey fire!! all lanes shutdown until furt...</td>\n",
       "      <td>TotalTrafficLA</td>\n",
       "      <td>Fri Nov 30 12:16:39 +0000 2018</td>\n",
       "      <td>#Malibu #LAtraffic</td>\n",
       "      <td>woolsey fire all lane shutdown until further n...</td>\n",
       "    </tr>\n",
       "    <tr>\n",
       "      <th>2</th>\n",
       "      <td>!!woolsey fire!! all lanes shutdown until furt...</td>\n",
       "      <td>TotalTrafficLA</td>\n",
       "      <td>Fri Nov 30 12:16:38 +0000 2018</td>\n",
       "      <td>#Malibu #LAtraffic</td>\n",
       "      <td>woolsey fire all lane shutdown until further n...</td>\n",
       "    </tr>\n",
       "    <tr>\n",
       "      <th>3</th>\n",
       "      <td>Nov 8th the Woolsey fire broke out and burned ...</td>\n",
       "      <td>irishcntrychic3</td>\n",
       "      <td>Fri Nov 30 04:18:35 +0000 2018</td>\n",
       "      <td>NaN</td>\n",
       "      <td>nov 8th the woolsey fire broke out and burned ...</td>\n",
       "    </tr>\n",
       "    <tr>\n",
       "      <th>4</th>\n",
       "      <td>Yes! This is one of the groups the boys &amp; I he...</td>\n",
       "      <td>BondKathi</td>\n",
       "      <td>Thu Nov 29 05:01:38 +0000 2018</td>\n",
       "      <td>#Repost</td>\n",
       "      <td>yes this is one of the group the boy i helped ...</td>\n",
       "    </tr>\n",
       "  </tbody>\n",
       "</table>\n",
       "</div>"
      ],
      "text/plain": [
       "                                           Full Text           Author  \\\n",
       "0  Autumn Sun | sailor_marimoon soaking up some g...      StormulaOne   \n",
       "1  !!woolsey fire!! all lanes shutdown until furt...   TotalTrafficLA   \n",
       "2  !!woolsey fire!! all lanes shutdown until furt...   TotalTrafficLA   \n",
       "3  Nov 8th the Woolsey fire broke out and burned ...  irishcntrychic3   \n",
       "4  Yes! This is one of the groups the boys & I he...        BondKathi   \n",
       "\n",
       "                    Creation Time            Hashtags  \\\n",
       "0  Fri Nov 30 20:16:20 +0000 2018                 NaN   \n",
       "1  Fri Nov 30 12:16:39 +0000 2018  #Malibu #LAtraffic   \n",
       "2  Fri Nov 30 12:16:38 +0000 2018  #Malibu #LAtraffic   \n",
       "3  Fri Nov 30 04:18:35 +0000 2018                 NaN   \n",
       "4  Thu Nov 29 05:01:38 +0000 2018             #Repost   \n",
       "\n",
       "                                                text  \n",
       "0  autumn sun sailormarimoon soaking up some gold...  \n",
       "1  woolsey fire all lane shutdown until further n...  \n",
       "2  woolsey fire all lane shutdown until further n...  \n",
       "3  nov 8th the woolsey fire broke out and burned ...  \n",
       "4  yes this is one of the group the boy i helped ...  "
      ]
     },
     "execution_count": 9,
     "metadata": {},
     "output_type": "execute_result"
    }
   ],
   "source": [
    "df.head()"
   ]
  },
  {
   "cell_type": "code",
   "execution_count": 10,
   "metadata": {},
   "outputs": [],
   "source": [
    "# Create a list of words to filter for, initial word list take from DSI - DC - 2 group and then modified\n",
    "# based on analysis from Chris T. and Yichen H.\n",
    "word_list1 = [' road', ' street',' rd', ' hwy', ' highway', ' ave', ' avenue',' intersection',' lane']\n",
    "word_list2 = [' closed',' closure', ' blocked', ' flooded',' shutdown']\n",
    "not_word_list = [' cleared', ' opened', ' reopen']\n",
    "\n",
    "#function to determine if tweet text is a qualified tweet, defined as having a word in word_list1 and word_list2\n",
    "#but not in not_word_list\n",
    "\n",
    "def qualified_tweet(tweet_text):\n",
    "    first,second,delete = 0,0,0\n",
    "    for i in word_list1:\n",
    "        if i in \" \"+tweet_text:\n",
    "            first = 1\n",
    "    for i in word_list2:\n",
    "        if i in \" \"+tweet_text:\n",
    "            second = 1\n",
    "    for i in not_word_list:\n",
    "        if i in \" \"+tweet_text:\n",
    "            delete=1\n",
    "    if first & second &~ delete:\n",
    "        return True\n",
    "    else:\n",
    "        return False"
   ]
  },
  {
   "cell_type": "code",
   "execution_count": 11,
   "metadata": {},
   "outputs": [],
   "source": [
    "df['useful tweet'] = df['text'].apply(qualified_tweet)"
   ]
  },
  {
   "cell_type": "code",
   "execution_count": 12,
   "metadata": {},
   "outputs": [
    {
     "data": {
      "text/plain": [
       "(98, 6)"
      ]
     },
     "execution_count": 12,
     "metadata": {},
     "output_type": "execute_result"
    }
   ],
   "source": [
    "#How many 'road closure' tweets did we get\n",
    "df_closed = df[df['useful tweet']==True]\n",
    "df_closed.shape"
   ]
  },
  {
   "cell_type": "code",
   "execution_count": 13,
   "metadata": {},
   "outputs": [],
   "source": [
    "#Display full text of tweet\n",
    "#Code taken from https://stackoverflow.com/questions/25351968/how-to-display-full-non-truncated-dataframe-information-in-html-when-convertin\n",
    "\n",
    "pd.set_option('display.max_colwidth', -1)"
   ]
  },
  {
   "cell_type": "code",
   "execution_count": 15,
   "metadata": {},
   "outputs": [
    {
     "data": {
      "text/plain": [
       "1     !!woolsey fire!! all lanes shutdown until further notice in #Malibu on Hwy 23 SB between Mulholland Hwy and CA-1 #LAtraffic                 \n",
       "2     !!woolsey fire!! all lanes shutdown until further notice in #Malibu on Hwy 23 NB between CA-1 and Mulholland Hwy #LAtraffic                 \n",
       "6     !!woolsey fire!! all lanes shutdown until further notice in #LosAngeles on Hwy 23 SB between Mulholland Hwy and CA-1 #LAtraffic             \n",
       "26    !! #woolseyfire closure !! road closed due to the woolsey fire. in #PointMugu on Pacific Coast Hwy SB before Mulh... http://bit.ly/10F395r  \n",
       "28    !! #woolseyfire closure !! road closed due to the woolsey fire. in #PointMagu on Pacific Coast Hwy SB before Las Posas Rd to Heathercliff Rd\n",
       "Name: Full Text, dtype: object"
      ]
     },
     "execution_count": 15,
     "metadata": {},
     "output_type": "execute_result"
    }
   ],
   "source": [
    "#Explore the first couple road closure tweets\n",
    "df_closed['Full Text'].head()"
   ]
  },
  {
   "cell_type": "code",
   "execution_count": 16,
   "metadata": {},
   "outputs": [
    {
     "data": {
      "text/plain": [
       "(1866, 6)"
      ]
     },
     "execution_count": 16,
     "metadata": {},
     "output_type": "execute_result"
    }
   ],
   "source": [
    "#How many non-road closure tweets do we have?\n",
    "df_notclosed = df[df['useful tweet']==False]\n",
    "df_notclosed.shape"
   ]
  },
  {
   "cell_type": "code",
   "execution_count": 17,
   "metadata": {},
   "outputs": [],
   "source": [
    "#Export excluded tweets to see if there are additional keywords we should add\n",
    "df_notclosed.to_csv('current_excluded_tweets.csv',index=False)"
   ]
  }
 ],
 "metadata": {
  "kernelspec": {
   "display_name": "Python 3",
   "language": "python",
   "name": "python3"
  },
  "language_info": {
   "codemirror_mode": {
    "name": "ipython",
    "version": 3
   },
   "file_extension": ".py",
   "mimetype": "text/x-python",
   "name": "python",
   "nbconvert_exporter": "python",
   "pygments_lexer": "ipython3",
   "version": "3.7.3"
  }
 },
 "nbformat": 4,
 "nbformat_minor": 2
}
