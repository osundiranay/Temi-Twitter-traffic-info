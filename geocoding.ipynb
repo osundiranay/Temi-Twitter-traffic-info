{
 "cells": [
  {
   "cell_type": "markdown",
   "metadata": {},
   "source": [
    "## Mapping Live Road Closures "
   ]
  },
  {
   "cell_type": "markdown",
   "metadata": {},
   "source": [
    "You may need to uncomment and run the below cell to allow the map widget at the end of this notebook to generate."
   ]
  },
  {
   "cell_type": "code",
   "execution_count": 1,
   "metadata": {},
   "outputs": [],
   "source": [
    "# jupyter nbextension enable --py gmaps\n",
    "# jupyter nbextension enable --py widgetsnbextension"
   ]
  },
  {
   "cell_type": "code",
   "execution_count": 2,
   "metadata": {},
   "outputs": [],
   "source": [
    "import pandas as pd\n",
    "import json, requests"
   ]
  },
  {
   "cell_type": "code",
   "execution_count": 3,
   "metadata": {},
   "outputs": [],
   "source": [
    "json_file = open('creds/google-creds.json')\n",
    "json_str = json_file.read()\n",
    "json_data = json.loads(json_str)"
   ]
  },
  {
   "cell_type": "code",
   "execution_count": 4,
   "metadata": {},
   "outputs": [],
   "source": [
    "import gmaps\n",
    "import gmaps.datasets\n",
    "\n",
    "gmaps.configure(api_key=json_data['GOOGLE_API_KEY']) # Fill in with your API key"
   ]
  },
  {
   "cell_type": "code",
   "execution_count": 5,
   "metadata": {},
   "outputs": [],
   "source": [
    "here = pd.read_csv('live_here_locations.csv')\n",
    "here.drop(columns='Unnamed: 0', inplace=True)"
   ]
  },
  {
   "cell_type": "code",
   "execution_count": 6,
   "metadata": {},
   "outputs": [
    {
     "data": {
      "text/html": [
       "<div>\n",
       "<style scoped>\n",
       "    .dataframe tbody tr th:only-of-type {\n",
       "        vertical-align: middle;\n",
       "    }\n",
       "\n",
       "    .dataframe tbody tr th {\n",
       "        vertical-align: top;\n",
       "    }\n",
       "\n",
       "    .dataframe thead th {\n",
       "        text-align: right;\n",
       "    }\n",
       "</style>\n",
       "<table border=\"1\" class=\"dataframe\">\n",
       "  <thead>\n",
       "    <tr style=\"text-align: right;\">\n",
       "      <th></th>\n",
       "      <th>Closed Roads</th>\n",
       "      <th>Closure Details</th>\n",
       "      <th>Closure Type</th>\n",
       "      <th>Latitude</th>\n",
       "      <th>Longitude</th>\n",
       "    </tr>\n",
       "  </thead>\n",
       "  <tbody>\n",
       "    <tr>\n",
       "      <th>0</th>\n",
       "      <td>Santa Ana Fwy</td>\n",
       "      <td>Ramp  closed to Florence Ave/Exit 123</td>\n",
       "      <td>due to roadwork.</td>\n",
       "      <td>33.936220</td>\n",
       "      <td>-118.094810</td>\n",
       "    </tr>\n",
       "    <tr>\n",
       "      <th>1</th>\n",
       "      <td>2nd Pl</td>\n",
       "      <td>Closed between S Hope St and W 2nd St</td>\n",
       "      <td>due to roadwork.</td>\n",
       "      <td>34.054907</td>\n",
       "      <td>-118.251555</td>\n",
       "    </tr>\n",
       "    <tr>\n",
       "      <th>2</th>\n",
       "      <td>Sunset Pl</td>\n",
       "      <td>Closed between Wilshire Pl and Hoover St</td>\n",
       "      <td>due to roadwork.</td>\n",
       "      <td>34.060750</td>\n",
       "      <td>-118.287820</td>\n",
       "    </tr>\n",
       "    <tr>\n",
       "      <th>3</th>\n",
       "      <td>Empire Ave</td>\n",
       "      <td>Closed between Victory Pl and Wilson Ave</td>\n",
       "      <td>due to roadwork.</td>\n",
       "      <td>34.192080</td>\n",
       "      <td>-118.329290</td>\n",
       "    </tr>\n",
       "    <tr>\n",
       "      <th>4</th>\n",
       "      <td>Fairway Dr</td>\n",
       "      <td>Closed at Walnut Dr N</td>\n",
       "      <td>due to roadwork.</td>\n",
       "      <td>33.999664</td>\n",
       "      <td>-117.871428</td>\n",
       "    </tr>\n",
       "  </tbody>\n",
       "</table>\n",
       "</div>"
      ],
      "text/plain": [
       "    Closed Roads                           Closure Details       Closure Type  \\\n",
       "0  Santa Ana Fwy     Ramp  closed to Florence Ave/Exit 123   due to roadwork.   \n",
       "1         2nd Pl     Closed between S Hope St and W 2nd St   due to roadwork.   \n",
       "2      Sunset Pl  Closed between Wilshire Pl and Hoover St   due to roadwork.   \n",
       "3     Empire Ave  Closed between Victory Pl and Wilson Ave   due to roadwork.   \n",
       "4     Fairway Dr                     Closed at Walnut Dr N   due to roadwork.   \n",
       "\n",
       "    Latitude   Longitude  \n",
       "0  33.936220 -118.094810  \n",
       "1  34.054907 -118.251555  \n",
       "2  34.060750 -118.287820  \n",
       "3  34.192080 -118.329290  \n",
       "4  33.999664 -117.871428  "
      ]
     },
     "execution_count": 6,
     "metadata": {},
     "output_type": "execute_result"
    }
   ],
   "source": [
    "here.head()"
   ]
  },
  {
   "cell_type": "code",
   "execution_count": 7,
   "metadata": {},
   "outputs": [],
   "source": [
    "here_coords = here[['Latitude', 'Longitude']]"
   ]
  },
  {
   "cell_type": "code",
   "execution_count": 8,
   "metadata": {},
   "outputs": [],
   "source": [
    "here_layer = gmaps.symbol_layer(\n",
    "    here_coords, fill_color='red', stroke_color='red', scale=2\n",
    ")\n"
   ]
  },
  {
   "cell_type": "code",
   "execution_count": 9,
   "metadata": {},
   "outputs": [],
   "source": [
    "tweepy = pd.read_csv('tweepy.csv')"
   ]
  },
  {
   "cell_type": "code",
   "execution_count": 10,
   "metadata": {},
   "outputs": [],
   "source": [
    "tweepy.drop(columns='Unnamed: 0', inplace=True)"
   ]
  },
  {
   "cell_type": "code",
   "execution_count": 11,
   "metadata": {},
   "outputs": [
    {
     "data": {
      "text/html": [
       "<div>\n",
       "<style scoped>\n",
       "    .dataframe tbody tr th:only-of-type {\n",
       "        vertical-align: middle;\n",
       "    }\n",
       "\n",
       "    .dataframe tbody tr th {\n",
       "        vertical-align: top;\n",
       "    }\n",
       "\n",
       "    .dataframe thead th {\n",
       "        text-align: right;\n",
       "    }\n",
       "</style>\n",
       "<table border=\"1\" class=\"dataframe\">\n",
       "  <thead>\n",
       "    <tr style=\"text-align: right;\">\n",
       "      <th></th>\n",
       "      <th>Full Text</th>\n",
       "      <th>Author</th>\n",
       "      <th>Coordinates</th>\n",
       "      <th>Hashtags</th>\n",
       "      <th>Creation Time</th>\n",
       "    </tr>\n",
       "  </thead>\n",
       "  <tbody>\n",
       "    <tr>\n",
       "      <th>0</th>\n",
       "      <td>A crash is blocking the carpool lane. in #Arca...</td>\n",
       "      <td>TotalTrafficLA</td>\n",
       "      <td>[34.14892, -118.0632]</td>\n",
       "      <td>['Arcadia']</td>\n",
       "      <td>2019-07-29 16:23:49</td>\n",
       "    </tr>\n",
       "    <tr>\n",
       "      <th>1</th>\n",
       "      <td>A crash is blocking the carpool lane. in #Arca...</td>\n",
       "      <td>TotalTrafficLA</td>\n",
       "      <td>[34.14892, -118.0632]</td>\n",
       "      <td>['Arcadia', 'LAtraffic']</td>\n",
       "      <td>2019-07-29 16:12:13</td>\n",
       "    </tr>\n",
       "    <tr>\n",
       "      <th>2</th>\n",
       "      <td>A motorcycle crash was moved to the right shou...</td>\n",
       "      <td>TotalTrafficLA</td>\n",
       "      <td>[33.97027, -118.3747]</td>\n",
       "      <td>['Westchester']</td>\n",
       "      <td>2019-07-29 15:19:49</td>\n",
       "    </tr>\n",
       "    <tr>\n",
       "      <th>3</th>\n",
       "      <td>A motorcycle crash is blocking the left lane. ...</td>\n",
       "      <td>TotalTrafficLA</td>\n",
       "      <td>[33.97027, -118.3747]</td>\n",
       "      <td>['Westchester']</td>\n",
       "      <td>2019-07-29 14:53:08</td>\n",
       "    </tr>\n",
       "    <tr>\n",
       "      <th>4</th>\n",
       "      <td>A motorcycle crash is blocking the left lane. ...</td>\n",
       "      <td>TotalTrafficLA</td>\n",
       "      <td>[33.97577, -118.3852]</td>\n",
       "      <td>['CulverCity', 'LAtraffic']</td>\n",
       "      <td>2019-07-29 14:43:22</td>\n",
       "    </tr>\n",
       "  </tbody>\n",
       "</table>\n",
       "</div>"
      ],
      "text/plain": [
       "                                           Full Text          Author  \\\n",
       "0  A crash is blocking the carpool lane. in #Arca...  TotalTrafficLA   \n",
       "1  A crash is blocking the carpool lane. in #Arca...  TotalTrafficLA   \n",
       "2  A motorcycle crash was moved to the right shou...  TotalTrafficLA   \n",
       "3  A motorcycle crash is blocking the left lane. ...  TotalTrafficLA   \n",
       "4  A motorcycle crash is blocking the left lane. ...  TotalTrafficLA   \n",
       "\n",
       "             Coordinates                     Hashtags        Creation Time  \n",
       "0  [34.14892, -118.0632]                  ['Arcadia']  2019-07-29 16:23:49  \n",
       "1  [34.14892, -118.0632]     ['Arcadia', 'LAtraffic']  2019-07-29 16:12:13  \n",
       "2  [33.97027, -118.3747]              ['Westchester']  2019-07-29 15:19:49  \n",
       "3  [33.97027, -118.3747]              ['Westchester']  2019-07-29 14:53:08  \n",
       "4  [33.97577, -118.3852]  ['CulverCity', 'LAtraffic']  2019-07-29 14:43:22  "
      ]
     },
     "execution_count": 11,
     "metadata": {},
     "output_type": "execute_result"
    }
   ],
   "source": [
    "tweepy.head()"
   ]
  },
  {
   "cell_type": "code",
   "execution_count": 12,
   "metadata": {},
   "outputs": [],
   "source": [
    "tweepy_split = tweepy['Coordinates'].str.split(\",\", n=1, expand=True)\n",
    "tweepy['Latitude']= tweepy_split[0]\n",
    "tweepy['Longitude'] = tweepy_split[1]"
   ]
  },
  {
   "cell_type": "code",
   "execution_count": 13,
   "metadata": {},
   "outputs": [],
   "source": [
    "tweepy['Latitude'] = tweepy['Latitude'].str.strip('[').astype(float)"
   ]
  },
  {
   "cell_type": "code",
   "execution_count": 14,
   "metadata": {},
   "outputs": [],
   "source": [
    "tweepy['Longitude'] = tweepy['Longitude'].str.strip(']').astype(float)"
   ]
  },
  {
   "cell_type": "code",
   "execution_count": 15,
   "metadata": {},
   "outputs": [
    {
     "data": {
      "text/html": [
       "<div>\n",
       "<style scoped>\n",
       "    .dataframe tbody tr th:only-of-type {\n",
       "        vertical-align: middle;\n",
       "    }\n",
       "\n",
       "    .dataframe tbody tr th {\n",
       "        vertical-align: top;\n",
       "    }\n",
       "\n",
       "    .dataframe thead th {\n",
       "        text-align: right;\n",
       "    }\n",
       "</style>\n",
       "<table border=\"1\" class=\"dataframe\">\n",
       "  <thead>\n",
       "    <tr style=\"text-align: right;\">\n",
       "      <th></th>\n",
       "      <th>Full Text</th>\n",
       "      <th>Author</th>\n",
       "      <th>Coordinates</th>\n",
       "      <th>Hashtags</th>\n",
       "      <th>Creation Time</th>\n",
       "      <th>Latitude</th>\n",
       "      <th>Longitude</th>\n",
       "    </tr>\n",
       "  </thead>\n",
       "  <tbody>\n",
       "    <tr>\n",
       "      <th>0</th>\n",
       "      <td>A crash is blocking the carpool lane. in #Arca...</td>\n",
       "      <td>TotalTrafficLA</td>\n",
       "      <td>[34.14892, -118.0632]</td>\n",
       "      <td>['Arcadia']</td>\n",
       "      <td>2019-07-29 16:23:49</td>\n",
       "      <td>34.14892</td>\n",
       "      <td>-118.0632</td>\n",
       "    </tr>\n",
       "    <tr>\n",
       "      <th>1</th>\n",
       "      <td>A crash is blocking the carpool lane. in #Arca...</td>\n",
       "      <td>TotalTrafficLA</td>\n",
       "      <td>[34.14892, -118.0632]</td>\n",
       "      <td>['Arcadia', 'LAtraffic']</td>\n",
       "      <td>2019-07-29 16:12:13</td>\n",
       "      <td>34.14892</td>\n",
       "      <td>-118.0632</td>\n",
       "    </tr>\n",
       "    <tr>\n",
       "      <th>2</th>\n",
       "      <td>A motorcycle crash was moved to the right shou...</td>\n",
       "      <td>TotalTrafficLA</td>\n",
       "      <td>[33.97027, -118.3747]</td>\n",
       "      <td>['Westchester']</td>\n",
       "      <td>2019-07-29 15:19:49</td>\n",
       "      <td>33.97027</td>\n",
       "      <td>-118.3747</td>\n",
       "    </tr>\n",
       "    <tr>\n",
       "      <th>3</th>\n",
       "      <td>A motorcycle crash is blocking the left lane. ...</td>\n",
       "      <td>TotalTrafficLA</td>\n",
       "      <td>[33.97027, -118.3747]</td>\n",
       "      <td>['Westchester']</td>\n",
       "      <td>2019-07-29 14:53:08</td>\n",
       "      <td>33.97027</td>\n",
       "      <td>-118.3747</td>\n",
       "    </tr>\n",
       "    <tr>\n",
       "      <th>4</th>\n",
       "      <td>A motorcycle crash is blocking the left lane. ...</td>\n",
       "      <td>TotalTrafficLA</td>\n",
       "      <td>[33.97577, -118.3852]</td>\n",
       "      <td>['CulverCity', 'LAtraffic']</td>\n",
       "      <td>2019-07-29 14:43:22</td>\n",
       "      <td>33.97577</td>\n",
       "      <td>-118.3852</td>\n",
       "    </tr>\n",
       "  </tbody>\n",
       "</table>\n",
       "</div>"
      ],
      "text/plain": [
       "                                           Full Text          Author  \\\n",
       "0  A crash is blocking the carpool lane. in #Arca...  TotalTrafficLA   \n",
       "1  A crash is blocking the carpool lane. in #Arca...  TotalTrafficLA   \n",
       "2  A motorcycle crash was moved to the right shou...  TotalTrafficLA   \n",
       "3  A motorcycle crash is blocking the left lane. ...  TotalTrafficLA   \n",
       "4  A motorcycle crash is blocking the left lane. ...  TotalTrafficLA   \n",
       "\n",
       "             Coordinates                     Hashtags        Creation Time  \\\n",
       "0  [34.14892, -118.0632]                  ['Arcadia']  2019-07-29 16:23:49   \n",
       "1  [34.14892, -118.0632]     ['Arcadia', 'LAtraffic']  2019-07-29 16:12:13   \n",
       "2  [33.97027, -118.3747]              ['Westchester']  2019-07-29 15:19:49   \n",
       "3  [33.97027, -118.3747]              ['Westchester']  2019-07-29 14:53:08   \n",
       "4  [33.97577, -118.3852]  ['CulverCity', 'LAtraffic']  2019-07-29 14:43:22   \n",
       "\n",
       "   Latitude  Longitude  \n",
       "0  34.14892  -118.0632  \n",
       "1  34.14892  -118.0632  \n",
       "2  33.97027  -118.3747  \n",
       "3  33.97027  -118.3747  \n",
       "4  33.97577  -118.3852  "
      ]
     },
     "execution_count": 15,
     "metadata": {},
     "output_type": "execute_result"
    }
   ],
   "source": [
    "tweepy.head()"
   ]
  },
  {
   "cell_type": "code",
   "execution_count": 16,
   "metadata": {},
   "outputs": [],
   "source": [
    "# malibu_coordinates = (34.33, -118.51)\n",
    "# gmaps.figure(center=malibu_coordinates, zoom_level=12)"
   ]
  },
  {
   "cell_type": "code",
   "execution_count": 17,
   "metadata": {},
   "outputs": [],
   "source": [
    "tweepy_coords = tweepy[['Latitude', 'Longitude']]"
   ]
  },
  {
   "cell_type": "code",
   "execution_count": 18,
   "metadata": {},
   "outputs": [
    {
     "data": {
      "text/plain": [
       "Latitude     float64\n",
       "Longitude    float64\n",
       "dtype: object"
      ]
     },
     "execution_count": 18,
     "metadata": {},
     "output_type": "execute_result"
    }
   ],
   "source": [
    "tweepy_coords.dtypes"
   ]
  },
  {
   "cell_type": "code",
   "execution_count": 19,
   "metadata": {
    "scrolled": true
   },
   "outputs": [
    {
     "data": {
      "application/vnd.jupyter.widget-view+json": {
       "model_id": "f18f8080a98347b28e89b83d795bac01",
       "version_major": 2,
       "version_minor": 0
      },
      "text/plain": [
       "Figure(layout=FigureLayout(height='420px'))"
      ]
     },
     "metadata": {},
     "output_type": "display_data"
    }
   ],
   "source": [
    "tweepy_layer = gmaps.symbol_layer(\n",
    "    tweepy_coords, fill_color='blue', stroke_color='blue', scale=2\n",
    ")\n",
    "fig = gmaps.figure()\n",
    "fig.add_layer(tweepy_layer)\n",
    "fig.add_layer(here_layer)\n",
    "fig"
   ]
  },
  {
   "cell_type": "code",
   "execution_count": null,
   "metadata": {},
   "outputs": [],
   "source": []
  },
  {
   "cell_type": "code",
   "execution_count": null,
   "metadata": {},
   "outputs": [],
   "source": []
  }
 ],
 "metadata": {
  "kernelspec": {
   "display_name": "Python 3",
   "language": "python",
   "name": "python3"
  },
  "language_info": {
   "codemirror_mode": {
    "name": "ipython",
    "version": 3
   },
   "file_extension": ".py",
   "mimetype": "text/x-python",
   "name": "python",
   "nbconvert_exporter": "python",
   "pygments_lexer": "ipython3",
   "version": "3.7.3"
  }
 },
 "nbformat": 4,
 "nbformat_minor": 2
}
