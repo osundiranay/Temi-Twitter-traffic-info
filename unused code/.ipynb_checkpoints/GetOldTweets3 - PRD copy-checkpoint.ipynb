{
 "cells": [
  {
   "cell_type": "code",
   "execution_count": null,
   "metadata": {},
   "outputs": [],
   "source": [
    "#this code was used to scrape historic tweets using getoldtweets3, we had to go back and use tweepy after we found\n",
    "#that we couldn't identify coordinates given an intersection involving a highway"
   ]
  },
  {
   "cell_type": "markdown",
   "metadata": {},
   "source": [
    "## Imports ##"
   ]
  },
  {
   "cell_type": "code",
   "execution_count": 4,
   "metadata": {},
   "outputs": [],
   "source": [
    "import pandas as pd\n",
    "import GetOldTweets3 as got"
   ]
  },
  {
   "cell_type": "markdown",
   "metadata": {},
   "source": [
    "## Function that users input search criteria in ##"
   ]
  },
  {
   "cell_type": "markdown",
   "metadata": {},
   "source": [
    "Search Criteria\n",
    "- query - specific string to search for (ex: Woosley Fire)\n",
    "- coordinate - exact latitude and longitude (ex: 34.0259, -118.7798) - we'll need another function to convert the user's input to this\n",
    "- distance - distance in miles to search for (ex: 40)\n",
    "- datefrom - date to start search from (ex: 2018-11-12)\n",
    "- dateto - date to search to (non-inclusive)(ex: type 2018-11-20 for all tweets ending before 11/20/18)"
   ]
  },
  {
   "cell_type": "code",
   "execution_count": 86,
   "metadata": {},
   "outputs": [],
   "source": [
    "def TweetSearch(query,coordinate_string,distance,datefrom,dateto):\n",
    "    full_text = []\n",
    "    author = []\n",
    "    creation_time = []\n",
    "    hashtags = []\n",
    "    \n",
    "    distance = str(distance)+'mi'\n",
    "    \n",
    "    tweetCriteria = got.manager.TweetCriteria()\\\n",
    "        .setQuerySearch(query)\\\n",
    "        .setNear(coordinate_string)\\\n",
    "        .setWithin(distance)\\\n",
    "        .setSince(datefrom)\\\n",
    "        .setUntil(dateto)\n",
    "    tweets = got.manager.TweetManager.getTweets(tweetCriteria)\n",
    "    for tweet in tweets:\n",
    "        full_text.append(tweet.text)\n",
    "        author.append(tweet.username)\n",
    "        creation_time.append(tweet.formatted_date)\n",
    "        hashtags.append(tweet.hashtags)\n",
    "    \n",
    "    return pd.DataFrame([full_text,author,creation_time,hashtags],\\\n",
    "                        index=['Full Text','Author','Creation Time','Hashtags']).T"
   ]
  },
  {
   "cell_type": "code",
   "execution_count": 107,
   "metadata": {},
   "outputs": [],
   "source": [
    "# Example string to call this function\n",
    "dftest = TweetSearch('Woosley Fire','34.0259, -118.7798',40,'2018-11-10','2018-11-13')"
   ]
  },
  {
   "cell_type": "code",
   "execution_count": 109,
   "metadata": {},
   "outputs": [
    {
     "data": {
      "text/html": [
       "<div>\n",
       "<style scoped>\n",
       "    .dataframe tbody tr th:only-of-type {\n",
       "        vertical-align: middle;\n",
       "    }\n",
       "\n",
       "    .dataframe tbody tr th {\n",
       "        vertical-align: top;\n",
       "    }\n",
       "\n",
       "    .dataframe thead th {\n",
       "        text-align: right;\n",
       "    }\n",
       "</style>\n",
       "<table border=\"1\" class=\"dataframe\">\n",
       "  <thead>\n",
       "    <tr style=\"text-align: right;\">\n",
       "      <th></th>\n",
       "      <th>Full Text</th>\n",
       "      <th>Author</th>\n",
       "      <th>Creation Time</th>\n",
       "      <th>Hashtags</th>\n",
       "    </tr>\n",
       "  </thead>\n",
       "  <tbody>\n",
       "    <tr>\n",
       "      <th>0</th>\n",
       "      <td>The sky and ocean reflect the fury of the Wool...</td>\n",
       "      <td>HomiHormasji</td>\n",
       "      <td>Mon Nov 12 22:27:08 +0000 2018</td>\n",
       "      <td></td>\n",
       "    </tr>\n",
       "    <tr>\n",
       "      <th>1</th>\n",
       "      <td>THANK YOU to all the tireless uniformed person...</td>\n",
       "      <td>ladyfaceale</td>\n",
       "      <td>Mon Nov 12 22:20:23 +0000 2018</td>\n",
       "      <td>#veterans #woosleyfire</td>\n",
       "    </tr>\n",
       "    <tr>\n",
       "      <th>2</th>\n",
       "      <td>ANGELINO CROSSFIT - WOOLSEY FIRE DONATIONS. TO...</td>\n",
       "      <td>angelino_xfit</td>\n",
       "      <td>Mon Nov 12 22:02:20 +0000 2018</td>\n",
       "      <td>#angelinocrossfitfamily #donations #woolseyfir...</td>\n",
       "    </tr>\n",
       "    <tr>\n",
       "      <th>3</th>\n",
       "      <td>Woolsey Fire from Santa Monica. Over 95,000 ac...</td>\n",
       "      <td>MrHerget</td>\n",
       "      <td>Mon Nov 12 21:16:49 +0000 2018</td>\n",
       "      <td></td>\n",
       "    </tr>\n",
       "    <tr>\n",
       "      <th>4</th>\n",
       "      <td>Topanga canyon north and south all lanes close...</td>\n",
       "      <td>TotalTrafficLA</td>\n",
       "      <td>Mon Nov 12 20:14:31 +0000 2018</td>\n",
       "      <td>#MalibuPacificPalisades</td>\n",
       "    </tr>\n",
       "  </tbody>\n",
       "</table>\n",
       "</div>"
      ],
      "text/plain": [
       "                                           Full Text          Author  \\\n",
       "0  The sky and ocean reflect the fury of the Wool...    HomiHormasji   \n",
       "1  THANK YOU to all the tireless uniformed person...     ladyfaceale   \n",
       "2  ANGELINO CROSSFIT - WOOLSEY FIRE DONATIONS. TO...   angelino_xfit   \n",
       "3  Woolsey Fire from Santa Monica. Over 95,000 ac...        MrHerget   \n",
       "4  Topanga canyon north and south all lanes close...  TotalTrafficLA   \n",
       "\n",
       "                    Creation Time  \\\n",
       "0  Mon Nov 12 22:27:08 +0000 2018   \n",
       "1  Mon Nov 12 22:20:23 +0000 2018   \n",
       "2  Mon Nov 12 22:02:20 +0000 2018   \n",
       "3  Mon Nov 12 21:16:49 +0000 2018   \n",
       "4  Mon Nov 12 20:14:31 +0000 2018   \n",
       "\n",
       "                                            Hashtags  \n",
       "0                                                     \n",
       "1                             #veterans #woosleyfire  \n",
       "2  #angelinocrossfitfamily #donations #woolseyfir...  \n",
       "3                                                     \n",
       "4                            #MalibuPacificPalisades  "
      ]
     },
     "execution_count": 109,
     "metadata": {},
     "output_type": "execute_result"
    }
   ],
   "source": [
    "dftest.head()"
   ]
  },
  {
   "cell_type": "code",
   "execution_count": 89,
   "metadata": {},
   "outputs": [
    {
     "data": {
      "text/plain": [
       "(118, 4)"
      ]
     },
     "execution_count": 89,
     "metadata": {},
     "output_type": "execute_result"
    }
   ],
   "source": [
    "dftest.shape"
   ]
  },
  {
   "cell_type": "markdown",
   "metadata": {},
   "source": [
    "## Using above function to get all Woosley Tweets ##"
   ]
  },
  {
   "cell_type": "code",
   "execution_count": 92,
   "metadata": {},
   "outputs": [],
   "source": [
    "dfWoosleyAll = TweetSearch('Woosley Fire','34.0259, -118.7798',40,'2018-11-08','2018-12-01')"
   ]
  },
  {
   "cell_type": "code",
   "execution_count": 104,
   "metadata": {},
   "outputs": [
    {
     "data": {
      "text/plain": [
       "(257, 4)"
      ]
     },
     "execution_count": 104,
     "metadata": {},
     "output_type": "execute_result"
    }
   ],
   "source": [
    "dfWoosleyAll.shape"
   ]
  },
  {
   "cell_type": "code",
   "execution_count": 94,
   "metadata": {},
   "outputs": [],
   "source": [
    "dfWoosley = TweetSearch('Woosley','34.0259, -118.7798',40,'2018-11-08','2018-12-01')"
   ]
  },
  {
   "cell_type": "code",
   "execution_count": 98,
   "metadata": {},
   "outputs": [],
   "source": [
    "dfFire = TweetSearch('fire','34.0259, -118.7798',40,'2018-11-08','2018-12-01')"
   ]
  },
  {
   "cell_type": "code",
   "execution_count": 96,
   "metadata": {},
   "outputs": [
    {
     "data": {
      "text/plain": [
       "(214, 4)"
      ]
     },
     "execution_count": 96,
     "metadata": {},
     "output_type": "execute_result"
    }
   ],
   "source": [
    "dfWoosley.shape"
   ]
  },
  {
   "cell_type": "code",
   "execution_count": 99,
   "metadata": {},
   "outputs": [
    {
     "data": {
      "text/plain": [
       "(1909, 4)"
      ]
     },
     "execution_count": 99,
     "metadata": {},
     "output_type": "execute_result"
    }
   ],
   "source": [
    "dfFire.shape"
   ]
  },
  {
   "cell_type": "code",
   "execution_count": 105,
   "metadata": {},
   "outputs": [],
   "source": [
    "dfWoosleyFull = pd.concat([dfWoosleyAll,dfWoosley,dfFire],ignore_index=True)"
   ]
  },
  {
   "cell_type": "code",
   "execution_count": 106,
   "metadata": {},
   "outputs": [
    {
     "data": {
      "text/plain": [
       "(2380, 4)"
      ]
     },
     "execution_count": 106,
     "metadata": {},
     "output_type": "execute_result"
    }
   ],
   "source": [
    "dfWoosleyFull.shape"
   ]
  },
  {
   "cell_type": "code",
   "execution_count": 111,
   "metadata": {},
   "outputs": [],
   "source": [
    "dfWoosleyFull.drop_duplicates(subset='Full Text',inplace=True)"
   ]
  },
  {
   "cell_type": "code",
   "execution_count": 112,
   "metadata": {},
   "outputs": [
    {
     "data": {
      "text/plain": [
       "(1964, 4)"
      ]
     },
     "execution_count": 112,
     "metadata": {},
     "output_type": "execute_result"
    }
   ],
   "source": [
    "dfWoosleyFull.shape"
   ]
  },
  {
   "cell_type": "code",
   "execution_count": 113,
   "metadata": {},
   "outputs": [],
   "source": [
    "dfWoosleyFull.to_csv('FullWoosleyTweets.csv',index=False)"
   ]
  },
  {
   "cell_type": "markdown",
   "metadata": {},
   "source": [
    "## Notes / Reasoning ##"
   ]
  },
  {
   "cell_type": "markdown",
   "metadata": {},
   "source": [
    "We explored using the official twitter API via the Tweepy library but ended up not using this for a number of reasons\n",
    "1) The official API limits you to searching the past 7 days or so. Given our disaster that we're training our model on was the Woosley Fire, we had to use the GetOldTweets3 library to find and pull in those tweets\n",
    "2) The official API doesn't appear to have a way to filter on location that we were able to find. Given our generic search criteria, we wanted to make sure that we were able to location filter our tweets\n",
    "\n",
    "Note\n",
    "1) we are inputting in a long/lat because bad strings will break the function"
   ]
  },
  {
   "cell_type": "code",
   "execution_count": null,
   "metadata": {},
   "outputs": [],
   "source": []
  }
 ],
 "metadata": {
  "kernelspec": {
   "display_name": "Python 3",
   "language": "python",
   "name": "python3"
  },
  "language_info": {
   "codemirror_mode": {
    "name": "ipython",
    "version": 3
   },
   "file_extension": ".py",
   "mimetype": "text/x-python",
   "name": "python",
   "nbconvert_exporter": "python",
   "pygments_lexer": "ipython3",
   "version": "3.7.3"
  }
 },
 "nbformat": 4,
 "nbformat_minor": 2
}
