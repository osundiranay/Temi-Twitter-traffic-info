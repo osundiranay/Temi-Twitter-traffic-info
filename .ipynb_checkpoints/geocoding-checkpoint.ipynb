{
 "cells": [
  {
   "cell_type": "markdown",
   "metadata": {},
   "source": [
    "## Mapping Live Road Closures with Gmaps\n",
    "_Author: Rachel Koenig_"
   ]
  },
  {
   "cell_type": "markdown",
   "metadata": {},
   "source": [
    "To run this notebook, you will need to obtain the Geocoding API and Maps Javascript API from google devloper console: https://console.developers.google.com/apis/   \n",
    "You may need to uncomment and run the below cell to allow the map widget at the end of this notebook to generate."
   ]
  },
  {
   "cell_type": "code",
   "execution_count": 2,
   "metadata": {},
   "outputs": [],
   "source": [
    "# jupyter nbextension enable --py gmaps\n",
    "# jupyter nbextension enable --py widgetsnbextension"
   ]
  },
  {
   "cell_type": "markdown",
   "metadata": {},
   "source": [
    "Imports"
   ]
  },
  {
   "cell_type": "code",
   "execution_count": 3,
   "metadata": {},
   "outputs": [],
   "source": [
    "import pandas as pd\n",
    "import json, requests\n",
    "import gmaps\n",
    "import gmaps.datasets"
   ]
  },
  {
   "cell_type": "code",
   "execution_count": 4,
   "metadata": {},
   "outputs": [],
   "source": [
    "# Access private Google API credentials.  \n",
    "json_file = open('creds/google-creds.json')\n",
    "json_str = json_file.read()\n",
    "json_data = json.loads(json_str)"
   ]
  },
  {
   "cell_type": "code",
   "execution_count": 5,
   "metadata": {},
   "outputs": [],
   "source": [
    "gmaps.configure(api_key=json_data['GOOGLE_API_KEY']) # Fill in with your API key"
   ]
  },
  {
   "cell_type": "code",
   "execution_count": 6,
   "metadata": {},
   "outputs": [],
   "source": [
    "#Read in here.com \"live\" tweets csv and drop unnecessary column\n",
    "here = pd.read_csv('./data/live_here_locations.csv')\n",
    "here.drop(columns='Unnamed: 0', inplace=True)"
   ]
  },
  {
   "cell_type": "code",
   "execution_count": 7,
   "metadata": {},
   "outputs": [
    {
     "data": {
      "text/html": [
       "<div>\n",
       "<style scoped>\n",
       "    .dataframe tbody tr th:only-of-type {\n",
       "        vertical-align: middle;\n",
       "    }\n",
       "\n",
       "    .dataframe tbody tr th {\n",
       "        vertical-align: top;\n",
       "    }\n",
       "\n",
       "    .dataframe thead th {\n",
       "        text-align: right;\n",
       "    }\n",
       "</style>\n",
       "<table border=\"1\" class=\"dataframe\">\n",
       "  <thead>\n",
       "    <tr style=\"text-align: right;\">\n",
       "      <th></th>\n",
       "      <th>Closed Roads</th>\n",
       "      <th>Closure Details</th>\n",
       "      <th>Closure Type</th>\n",
       "      <th>Latitude</th>\n",
       "      <th>Longitude</th>\n",
       "    </tr>\n",
       "  </thead>\n",
       "  <tbody>\n",
       "    <tr>\n",
       "      <th>0</th>\n",
       "      <td>Santa Ana Fwy</td>\n",
       "      <td>Ramp  closed to Florence Ave/Exit 123</td>\n",
       "      <td>due to roadwork.</td>\n",
       "      <td>33.936220</td>\n",
       "      <td>-118.094810</td>\n",
       "    </tr>\n",
       "    <tr>\n",
       "      <th>1</th>\n",
       "      <td>2nd Pl</td>\n",
       "      <td>Closed between S Hope St and W 2nd St</td>\n",
       "      <td>due to roadwork.</td>\n",
       "      <td>34.054907</td>\n",
       "      <td>-118.251555</td>\n",
       "    </tr>\n",
       "    <tr>\n",
       "      <th>2</th>\n",
       "      <td>Sunset Pl</td>\n",
       "      <td>Closed between Wilshire Pl and Hoover St</td>\n",
       "      <td>due to roadwork.</td>\n",
       "      <td>34.060750</td>\n",
       "      <td>-118.287820</td>\n",
       "    </tr>\n",
       "    <tr>\n",
       "      <th>3</th>\n",
       "      <td>Empire Ave</td>\n",
       "      <td>Closed between Victory Pl and Wilson Ave</td>\n",
       "      <td>due to roadwork.</td>\n",
       "      <td>34.192080</td>\n",
       "      <td>-118.329290</td>\n",
       "    </tr>\n",
       "    <tr>\n",
       "      <th>4</th>\n",
       "      <td>Fairway Dr</td>\n",
       "      <td>Closed at Walnut Dr N</td>\n",
       "      <td>due to roadwork.</td>\n",
       "      <td>33.999664</td>\n",
       "      <td>-117.871428</td>\n",
       "    </tr>\n",
       "  </tbody>\n",
       "</table>\n",
       "</div>"
      ],
      "text/plain": [
       "    Closed Roads                           Closure Details       Closure Type  \\\n",
       "0  Santa Ana Fwy     Ramp  closed to Florence Ave/Exit 123   due to roadwork.   \n",
       "1         2nd Pl     Closed between S Hope St and W 2nd St   due to roadwork.   \n",
       "2      Sunset Pl  Closed between Wilshire Pl and Hoover St   due to roadwork.   \n",
       "3     Empire Ave  Closed between Victory Pl and Wilson Ave   due to roadwork.   \n",
       "4     Fairway Dr                     Closed at Walnut Dr N   due to roadwork.   \n",
       "\n",
       "    Latitude   Longitude  \n",
       "0  33.936220 -118.094810  \n",
       "1  34.054907 -118.251555  \n",
       "2  34.060750 -118.287820  \n",
       "3  34.192080 -118.329290  \n",
       "4  33.999664 -117.871428  "
      ]
     },
     "execution_count": 7,
     "metadata": {},
     "output_type": "execute_result"
    }
   ],
   "source": [
    "#Check head of the DataFrame\n",
    "here.head()"
   ]
  },
  {
   "cell_type": "code",
   "execution_count": 8,
   "metadata": {},
   "outputs": [],
   "source": [
    "#Set Latitude and Longitude columns equal to a variable to be passed into the gmaps function.\n",
    "here_coords = here[['Latitude', 'Longitude']]"
   ]
  },
  {
   "cell_type": "code",
   "execution_count": 9,
   "metadata": {},
   "outputs": [],
   "source": [
    "# Create a layer to go on the map that plots the latitude and longitude from here.com closures.\n",
    "here_layer = gmaps.symbol_layer(\n",
    "    here_coords, fill_color='red', stroke_color='red', scale=2)"
   ]
  },
  {
   "cell_type": "code",
   "execution_count": 10,
   "metadata": {},
   "outputs": [],
   "source": [
    "# Read in tweepy scrape csv & drop unnecesary columsn\n",
    "tweepy = pd.read_csv('./data/Twitter_Output_For_Dataframe.csv')\n",
    "tweepy.drop(columns='Unnamed: 0', inplace=True)"
   ]
  },
  {
   "cell_type": "code",
   "execution_count": 12,
   "metadata": {},
   "outputs": [
    {
     "data": {
      "text/html": [
       "<div>\n",
       "<style scoped>\n",
       "    .dataframe tbody tr th:only-of-type {\n",
       "        vertical-align: middle;\n",
       "    }\n",
       "\n",
       "    .dataframe tbody tr th {\n",
       "        vertical-align: top;\n",
       "    }\n",
       "\n",
       "    .dataframe thead th {\n",
       "        text-align: right;\n",
       "    }\n",
       "</style>\n",
       "<table border=\"1\" class=\"dataframe\">\n",
       "  <thead>\n",
       "    <tr style=\"text-align: right;\">\n",
       "      <th></th>\n",
       "      <th>Location</th>\n",
       "      <th>Closed Road</th>\n",
       "      <th>Start Point Of Closure</th>\n",
       "      <th>End Point Of Closure</th>\n",
       "      <th>Tweet Text</th>\n",
       "      <th>Creation Time</th>\n",
       "      <th>Coordinates</th>\n",
       "      <th>Author</th>\n",
       "    </tr>\n",
       "  </thead>\n",
       "  <tbody>\n",
       "    <tr>\n",
       "      <th>0</th>\n",
       "      <td>Arcadia</td>\n",
       "      <td>210 EB</td>\n",
       "      <td>Michillinda Ave</td>\n",
       "      <td>Sierra Madre</td>\n",
       "      <td>A crash is blocking the carpool lane. in #Arca...</td>\n",
       "      <td>2019-07-29 09:23:49</td>\n",
       "      <td>[34.14892, -118.0632]</td>\n",
       "      <td>TotalTrafficLA</td>\n",
       "    </tr>\n",
       "    <tr>\n",
       "      <th>1</th>\n",
       "      <td>WestCovina</td>\n",
       "      <td>I-10 WB</td>\n",
       "      <td>Holt Ave</td>\n",
       "      <td>Via Verde</td>\n",
       "      <td>A crash is blocking the three left lanes. in #...</td>\n",
       "      <td>2019-07-29 08:54:37</td>\n",
       "      <td>[34.06873, -117.8612]</td>\n",
       "      <td>TotalTrafficLA</td>\n",
       "    </tr>\n",
       "    <tr>\n",
       "      <th>2</th>\n",
       "      <td>Westchester</td>\n",
       "      <td>405 NB</td>\n",
       "      <td>La Tijera Blvd</td>\n",
       "      <td>Century Blvd</td>\n",
       "      <td>A motorcycle crash was moved to the right shou...</td>\n",
       "      <td>2019-07-29 08:19:49</td>\n",
       "      <td>[33.97027, -118.3747]</td>\n",
       "      <td>TotalTrafficLA</td>\n",
       "    </tr>\n",
       "    <tr>\n",
       "      <th>3</th>\n",
       "      <td>WoodlandHills</td>\n",
       "      <td>US-101 NB</td>\n",
       "      <td>Ventura Blvd</td>\n",
       "      <td>Balboa Blvd</td>\n",
       "      <td>A crash was moved to the right shoulder. in #W...</td>\n",
       "      <td>2019-07-29 07:52:02</td>\n",
       "      <td>[34.17033, -118.6103]</td>\n",
       "      <td>TotalTrafficLA</td>\n",
       "    </tr>\n",
       "    <tr>\n",
       "      <th>4</th>\n",
       "      <td>CulverCity</td>\n",
       "      <td>405 NB</td>\n",
       "      <td>Howard Hughes Pky</td>\n",
       "      <td>Century Blvd</td>\n",
       "      <td>A motorcycle crash is blocking the left lane. ...</td>\n",
       "      <td>2019-07-29 07:43:22</td>\n",
       "      <td>[33.97577, -118.3852]</td>\n",
       "      <td>TotalTrafficLA</td>\n",
       "    </tr>\n",
       "  </tbody>\n",
       "</table>\n",
       "</div>"
      ],
      "text/plain": [
       "        Location Closed Road Start Point Of Closure End Point Of Closure  \\\n",
       "0        Arcadia      210 EB        Michillinda Ave         Sierra Madre   \n",
       "1     WestCovina     I-10 WB               Holt Ave            Via Verde   \n",
       "2    Westchester      405 NB         La Tijera Blvd         Century Blvd   \n",
       "3  WoodlandHills   US-101 NB           Ventura Blvd          Balboa Blvd   \n",
       "4     CulverCity      405 NB      Howard Hughes Pky         Century Blvd   \n",
       "\n",
       "                                          Tweet Text        Creation Time  \\\n",
       "0  A crash is blocking the carpool lane. in #Arca...  2019-07-29 09:23:49   \n",
       "1  A crash is blocking the three left lanes. in #...  2019-07-29 08:54:37   \n",
       "2  A motorcycle crash was moved to the right shou...  2019-07-29 08:19:49   \n",
       "3  A crash was moved to the right shoulder. in #W...  2019-07-29 07:52:02   \n",
       "4  A motorcycle crash is blocking the left lane. ...  2019-07-29 07:43:22   \n",
       "\n",
       "             Coordinates          Author  \n",
       "0  [34.14892, -118.0632]  TotalTrafficLA  \n",
       "1  [34.06873, -117.8612]  TotalTrafficLA  \n",
       "2  [33.97027, -118.3747]  TotalTrafficLA  \n",
       "3  [34.17033, -118.6103]  TotalTrafficLA  \n",
       "4  [33.97577, -118.3852]  TotalTrafficLA  "
      ]
     },
     "execution_count": 12,
     "metadata": {},
     "output_type": "execute_result"
    }
   ],
   "source": [
    "#Check head of DataFrame\n",
    "tweepy.head()"
   ]
  },
  {
   "cell_type": "code",
   "execution_count": 13,
   "metadata": {},
   "outputs": [],
   "source": [
    "# Split Coordinates column in two\n",
    "tweepy_split = tweepy['Coordinates'].str.split(\",\", n=1, expand=True)\n",
    "tweepy['Latitude']= tweepy_split[0] # Set new column name to Latitude\n",
    "tweepy['Longitude'] = tweepy_split[1] #Set new column name to Longitude\n",
    "\n",
    "# Change column types from objects to floats\n",
    "tweepy['Latitude'] = tweepy['Latitude'].str.strip('[').astype(float) \n",
    "tweepy['Longitude'] = tweepy['Longitude'].str.strip(']').astype(float)"
   ]
  },
  {
   "cell_type": "code",
   "execution_count": 21,
   "metadata": {},
   "outputs": [
    {
     "data": {
      "text/plain": [
       "Latitude     float64\n",
       "Longitude    float64\n",
       "dtype: object"
      ]
     },
     "execution_count": 21,
     "metadata": {},
     "output_type": "execute_result"
    }
   ],
   "source": [
    "tweepy_coords.dtypes"
   ]
  },
  {
   "cell_type": "code",
   "execution_count": 16,
   "metadata": {},
   "outputs": [
    {
     "data": {
      "text/html": [
       "<div>\n",
       "<style scoped>\n",
       "    .dataframe tbody tr th:only-of-type {\n",
       "        vertical-align: middle;\n",
       "    }\n",
       "\n",
       "    .dataframe tbody tr th {\n",
       "        vertical-align: top;\n",
       "    }\n",
       "\n",
       "    .dataframe thead th {\n",
       "        text-align: right;\n",
       "    }\n",
       "</style>\n",
       "<table border=\"1\" class=\"dataframe\">\n",
       "  <thead>\n",
       "    <tr style=\"text-align: right;\">\n",
       "      <th></th>\n",
       "      <th>Location</th>\n",
       "      <th>Closed Road</th>\n",
       "      <th>Start Point Of Closure</th>\n",
       "      <th>End Point Of Closure</th>\n",
       "      <th>Tweet Text</th>\n",
       "      <th>Creation Time</th>\n",
       "      <th>Coordinates</th>\n",
       "      <th>Author</th>\n",
       "      <th>Latitude</th>\n",
       "      <th>Longitude</th>\n",
       "    </tr>\n",
       "  </thead>\n",
       "  <tbody>\n",
       "    <tr>\n",
       "      <th>0</th>\n",
       "      <td>Arcadia</td>\n",
       "      <td>210 EB</td>\n",
       "      <td>Michillinda Ave</td>\n",
       "      <td>Sierra Madre</td>\n",
       "      <td>A crash is blocking the carpool lane. in #Arca...</td>\n",
       "      <td>2019-07-29 09:23:49</td>\n",
       "      <td>[34.14892, -118.0632]</td>\n",
       "      <td>TotalTrafficLA</td>\n",
       "      <td>34.14892</td>\n",
       "      <td>-118.0632</td>\n",
       "    </tr>\n",
       "    <tr>\n",
       "      <th>1</th>\n",
       "      <td>WestCovina</td>\n",
       "      <td>I-10 WB</td>\n",
       "      <td>Holt Ave</td>\n",
       "      <td>Via Verde</td>\n",
       "      <td>A crash is blocking the three left lanes. in #...</td>\n",
       "      <td>2019-07-29 08:54:37</td>\n",
       "      <td>[34.06873, -117.8612]</td>\n",
       "      <td>TotalTrafficLA</td>\n",
       "      <td>34.06873</td>\n",
       "      <td>-117.8612</td>\n",
       "    </tr>\n",
       "    <tr>\n",
       "      <th>2</th>\n",
       "      <td>Westchester</td>\n",
       "      <td>405 NB</td>\n",
       "      <td>La Tijera Blvd</td>\n",
       "      <td>Century Blvd</td>\n",
       "      <td>A motorcycle crash was moved to the right shou...</td>\n",
       "      <td>2019-07-29 08:19:49</td>\n",
       "      <td>[33.97027, -118.3747]</td>\n",
       "      <td>TotalTrafficLA</td>\n",
       "      <td>33.97027</td>\n",
       "      <td>-118.3747</td>\n",
       "    </tr>\n",
       "    <tr>\n",
       "      <th>3</th>\n",
       "      <td>WoodlandHills</td>\n",
       "      <td>US-101 NB</td>\n",
       "      <td>Ventura Blvd</td>\n",
       "      <td>Balboa Blvd</td>\n",
       "      <td>A crash was moved to the right shoulder. in #W...</td>\n",
       "      <td>2019-07-29 07:52:02</td>\n",
       "      <td>[34.17033, -118.6103]</td>\n",
       "      <td>TotalTrafficLA</td>\n",
       "      <td>34.17033</td>\n",
       "      <td>-118.6103</td>\n",
       "    </tr>\n",
       "    <tr>\n",
       "      <th>4</th>\n",
       "      <td>CulverCity</td>\n",
       "      <td>405 NB</td>\n",
       "      <td>Howard Hughes Pky</td>\n",
       "      <td>Century Blvd</td>\n",
       "      <td>A motorcycle crash is blocking the left lane. ...</td>\n",
       "      <td>2019-07-29 07:43:22</td>\n",
       "      <td>[33.97577, -118.3852]</td>\n",
       "      <td>TotalTrafficLA</td>\n",
       "      <td>33.97577</td>\n",
       "      <td>-118.3852</td>\n",
       "    </tr>\n",
       "  </tbody>\n",
       "</table>\n",
       "</div>"
      ],
      "text/plain": [
       "        Location Closed Road Start Point Of Closure End Point Of Closure  \\\n",
       "0        Arcadia      210 EB        Michillinda Ave         Sierra Madre   \n",
       "1     WestCovina     I-10 WB               Holt Ave            Via Verde   \n",
       "2    Westchester      405 NB         La Tijera Blvd         Century Blvd   \n",
       "3  WoodlandHills   US-101 NB           Ventura Blvd          Balboa Blvd   \n",
       "4     CulverCity      405 NB      Howard Hughes Pky         Century Blvd   \n",
       "\n",
       "                                          Tweet Text        Creation Time  \\\n",
       "0  A crash is blocking the carpool lane. in #Arca...  2019-07-29 09:23:49   \n",
       "1  A crash is blocking the three left lanes. in #...  2019-07-29 08:54:37   \n",
       "2  A motorcycle crash was moved to the right shou...  2019-07-29 08:19:49   \n",
       "3  A crash was moved to the right shoulder. in #W...  2019-07-29 07:52:02   \n",
       "4  A motorcycle crash is blocking the left lane. ...  2019-07-29 07:43:22   \n",
       "\n",
       "             Coordinates          Author  Latitude  Longitude  \n",
       "0  [34.14892, -118.0632]  TotalTrafficLA  34.14892  -118.0632  \n",
       "1  [34.06873, -117.8612]  TotalTrafficLA  34.06873  -117.8612  \n",
       "2  [33.97027, -118.3747]  TotalTrafficLA  33.97027  -118.3747  \n",
       "3  [34.17033, -118.6103]  TotalTrafficLA  34.17033  -118.6103  \n",
       "4  [33.97577, -118.3852]  TotalTrafficLA  33.97577  -118.3852  "
      ]
     },
     "execution_count": 16,
     "metadata": {},
     "output_type": "execute_result"
    }
   ],
   "source": [
    "# Check head to make sure new columns were added.\n",
    "tweepy.head()"
   ]
  },
  {
   "cell_type": "code",
   "execution_count": 18,
   "metadata": {},
   "outputs": [],
   "source": [
    "#Set Latitude and Longitude columns equal to a variable to be passed into the gmaps function.\n",
    "tweepy_coords = tweepy[['Latitude', 'Longitude']]"
   ]
  },
  {
   "cell_type": "code",
   "execution_count": 20,
   "metadata": {
    "scrolled": true
   },
   "outputs": [
    {
     "data": {
      "application/vnd.jupyter.widget-view+json": {
       "model_id": "dbc420f1aeee4b15be2bf273c3113d06",
       "version_major": 2,
       "version_minor": 0
      },
      "text/plain": [
       "Figure(layout=FigureLayout(height='420px'))"
      ]
     },
     "metadata": {},
     "output_type": "display_data"
    }
   ],
   "source": [
    "# Create a layer to go on the map that plots the latitude and longitude from twitter closures.\n",
    "tweepy_layer = gmaps.symbol_layer(\n",
    "    tweepy_coords, fill_color='blue', stroke_color='blue', scale=2)\n",
    "\n",
    "#Plot and render map \n",
    "fig = gmaps.figure()\n",
    "fig.add_layer(tweepy_layer) #Blue dots\n",
    "fig.add_layer(here_layer) #Red dots \n",
    "fig"
   ]
  },
  {
   "cell_type": "code",
   "execution_count": null,
   "metadata": {},
   "outputs": [],
   "source": []
  }
 ],
 "metadata": {
  "kernelspec": {
   "display_name": "Python 3",
   "language": "python",
   "name": "python3"
  },
  "language_info": {
   "codemirror_mode": {
    "name": "ipython",
    "version": 3
   },
   "file_extension": ".py",
   "mimetype": "text/x-python",
   "name": "python",
   "nbconvert_exporter": "python",
   "pygments_lexer": "ipython3",
   "version": "3.7.3"
  }
 },
 "nbformat": 4,
 "nbformat_minor": 2
}
