{
 "cells": [
  {
   "cell_type": "code",
   "execution_count": 1,
   "metadata": {},
   "outputs": [],
   "source": [
    "# jupyter nbextension enable --py gmaps\n",
    "# jupyter nbextension enable --py widgetsnbextension"
   ]
  },
  {
   "cell_type": "code",
   "execution_count": 2,
   "metadata": {},
   "outputs": [],
   "source": [
    "import pandas as pd\n",
    "import json, requests"
   ]
  },
  {
   "cell_type": "code",
   "execution_count": 3,
   "metadata": {},
   "outputs": [],
   "source": [
    "json_file = open('google-creds.json')\n",
    "json_str = json_file.read()\n",
    "json_data = json.loads(json_str)"
   ]
  },
  {
   "cell_type": "code",
   "execution_count": 6,
   "metadata": {},
   "outputs": [],
   "source": [
    "import gmaps\n",
    "import gmaps.datasets\n",
    "\n",
    "gmaps.configure(api_key=json_data['GOOGLE_API_KEY']) # Fill in with your API key"
   ]
  },
  {
   "cell_type": "code",
   "execution_count": 7,
   "metadata": {},
   "outputs": [
    {
     "data": {
      "application/vnd.jupyter.widget-view+json": {
       "model_id": "b933913d185e42f68375d6bbca4ad93a",
       "version_major": 2,
       "version_minor": 0
      },
      "text/plain": [
       "Figure(layout=FigureLayout(height='420px'))"
      ]
     },
     "metadata": {},
     "output_type": "display_data"
    }
   ],
   "source": [
    "gmaps.figure()"
   ]
  },
  {
   "cell_type": "code",
   "execution_count": 8,
   "metadata": {},
   "outputs": [
    {
     "data": {
      "text/html": [
       "<div>\n",
       "<style scoped>\n",
       "    .dataframe tbody tr th:only-of-type {\n",
       "        vertical-align: middle;\n",
       "    }\n",
       "\n",
       "    .dataframe tbody tr th {\n",
       "        vertical-align: top;\n",
       "    }\n",
       "\n",
       "    .dataframe thead th {\n",
       "        text-align: right;\n",
       "    }\n",
       "</style>\n",
       "<table border=\"1\" class=\"dataframe\">\n",
       "  <thead>\n",
       "    <tr style=\"text-align: right;\">\n",
       "      <th></th>\n",
       "      <th>Unnamed: 0</th>\n",
       "      <th>LATITUDE</th>\n",
       "      <th>LONGITUDE</th>\n",
       "      <th>start_end</th>\n",
       "      <th>incident</th>\n",
       "    </tr>\n",
       "  </thead>\n",
       "  <tbody>\n",
       "    <tr>\n",
       "      <th>0</th>\n",
       "      <td>0</td>\n",
       "      <td>34.05869</td>\n",
       "      <td>-118.41584</td>\n",
       "      <td>start</td>\n",
       "      <td>0</td>\n",
       "    </tr>\n",
       "    <tr>\n",
       "      <th>1</th>\n",
       "      <td>1</td>\n",
       "      <td>34.04012</td>\n",
       "      <td>-118.57928</td>\n",
       "      <td>start</td>\n",
       "      <td>1</td>\n",
       "    </tr>\n",
       "    <tr>\n",
       "      <th>2</th>\n",
       "      <td>2</td>\n",
       "      <td>34.06034</td>\n",
       "      <td>-118.41357</td>\n",
       "      <td>start</td>\n",
       "      <td>2</td>\n",
       "    </tr>\n",
       "    <tr>\n",
       "      <th>3</th>\n",
       "      <td>3</td>\n",
       "      <td>34.07898</td>\n",
       "      <td>-118.75556</td>\n",
       "      <td>start</td>\n",
       "      <td>3</td>\n",
       "    </tr>\n",
       "    <tr>\n",
       "      <th>4</th>\n",
       "      <td>4</td>\n",
       "      <td>34.33766</td>\n",
       "      <td>-118.51440</td>\n",
       "      <td>start</td>\n",
       "      <td>4</td>\n",
       "    </tr>\n",
       "  </tbody>\n",
       "</table>\n",
       "</div>"
      ],
      "text/plain": [
       "   Unnamed: 0  LATITUDE  LONGITUDE start_end  incident\n",
       "0           0  34.05869 -118.41584     start         0\n",
       "1           1  34.04012 -118.57928     start         1\n",
       "2           2  34.06034 -118.41357     start         2\n",
       "3           3  34.07898 -118.75556     start         3\n",
       "4           4  34.33766 -118.51440     start         4"
      ]
     },
     "execution_count": 8,
     "metadata": {},
     "output_type": "execute_result"
    }
   ],
   "source": [
    "here = pd.read_csv('live_here_locations.csv')\n",
    "here.head()"
   ]
  },
  {
   "cell_type": "code",
   "execution_count": 9,
   "metadata": {},
   "outputs": [],
   "source": [
    "here.drop(columns='Unnamed: 0', inplace=True)"
   ]
  },
  {
   "cell_type": "code",
   "execution_count": 10,
   "metadata": {},
   "outputs": [],
   "source": [
    "here_coords = here[['LATITUDE', 'LONGITUDE']]"
   ]
  },
  {
   "cell_type": "code",
   "execution_count": 11,
   "metadata": {},
   "outputs": [],
   "source": [
    "tweepy = pd.read_csv('../tweepy.csv')"
   ]
  },
  {
   "cell_type": "code",
   "execution_count": 12,
   "metadata": {},
   "outputs": [],
   "source": [
    "tweepy.drop(columns='Unnamed: 0', inplace=True)"
   ]
  },
  {
   "cell_type": "code",
   "execution_count": 13,
   "metadata": {},
   "outputs": [
    {
     "data": {
      "text/html": [
       "<div>\n",
       "<style scoped>\n",
       "    .dataframe tbody tr th:only-of-type {\n",
       "        vertical-align: middle;\n",
       "    }\n",
       "\n",
       "    .dataframe tbody tr th {\n",
       "        vertical-align: top;\n",
       "    }\n",
       "\n",
       "    .dataframe thead th {\n",
       "        text-align: right;\n",
       "    }\n",
       "</style>\n",
       "<table border=\"1\" class=\"dataframe\">\n",
       "  <thead>\n",
       "    <tr style=\"text-align: right;\">\n",
       "      <th></th>\n",
       "      <th>Full Text</th>\n",
       "      <th>Author</th>\n",
       "      <th>Coordinates</th>\n",
       "      <th>Hashtags</th>\n",
       "      <th>Creation Time</th>\n",
       "    </tr>\n",
       "  </thead>\n",
       "  <tbody>\n",
       "    <tr>\n",
       "      <th>0</th>\n",
       "      <td>A crash is blocking the carpool lane. in #Arca...</td>\n",
       "      <td>TotalTrafficLA</td>\n",
       "      <td>[34.14892, -118.0632]</td>\n",
       "      <td>['Arcadia']</td>\n",
       "      <td>2019-07-29 16:23:49</td>\n",
       "    </tr>\n",
       "    <tr>\n",
       "      <th>1</th>\n",
       "      <td>A crash is blocking the carpool lane. in #Arca...</td>\n",
       "      <td>TotalTrafficLA</td>\n",
       "      <td>[34.14892, -118.0632]</td>\n",
       "      <td>['Arcadia', 'LAtraffic']</td>\n",
       "      <td>2019-07-29 16:12:13</td>\n",
       "    </tr>\n",
       "    <tr>\n",
       "      <th>2</th>\n",
       "      <td>A motorcycle crash was moved to the right shou...</td>\n",
       "      <td>TotalTrafficLA</td>\n",
       "      <td>[33.97027, -118.3747]</td>\n",
       "      <td>['Westchester']</td>\n",
       "      <td>2019-07-29 15:19:49</td>\n",
       "    </tr>\n",
       "    <tr>\n",
       "      <th>3</th>\n",
       "      <td>A motorcycle crash is blocking the left lane. ...</td>\n",
       "      <td>TotalTrafficLA</td>\n",
       "      <td>[33.97027, -118.3747]</td>\n",
       "      <td>['Westchester']</td>\n",
       "      <td>2019-07-29 14:53:08</td>\n",
       "    </tr>\n",
       "    <tr>\n",
       "      <th>4</th>\n",
       "      <td>A motorcycle crash is blocking the left lane. ...</td>\n",
       "      <td>TotalTrafficLA</td>\n",
       "      <td>[33.97577, -118.3852]</td>\n",
       "      <td>['CulverCity', 'LAtraffic']</td>\n",
       "      <td>2019-07-29 14:43:22</td>\n",
       "    </tr>\n",
       "  </tbody>\n",
       "</table>\n",
       "</div>"
      ],
      "text/plain": [
       "                                           Full Text          Author  \\\n",
       "0  A crash is blocking the carpool lane. in #Arca...  TotalTrafficLA   \n",
       "1  A crash is blocking the carpool lane. in #Arca...  TotalTrafficLA   \n",
       "2  A motorcycle crash was moved to the right shou...  TotalTrafficLA   \n",
       "3  A motorcycle crash is blocking the left lane. ...  TotalTrafficLA   \n",
       "4  A motorcycle crash is blocking the left lane. ...  TotalTrafficLA   \n",
       "\n",
       "             Coordinates                     Hashtags        Creation Time  \n",
       "0  [34.14892, -118.0632]                  ['Arcadia']  2019-07-29 16:23:49  \n",
       "1  [34.14892, -118.0632]     ['Arcadia', 'LAtraffic']  2019-07-29 16:12:13  \n",
       "2  [33.97027, -118.3747]              ['Westchester']  2019-07-29 15:19:49  \n",
       "3  [33.97027, -118.3747]              ['Westchester']  2019-07-29 14:53:08  \n",
       "4  [33.97577, -118.3852]  ['CulverCity', 'LAtraffic']  2019-07-29 14:43:22  "
      ]
     },
     "execution_count": 13,
     "metadata": {},
     "output_type": "execute_result"
    }
   ],
   "source": [
    "tweepy.head()"
   ]
  },
  {
   "cell_type": "code",
   "execution_count": 14,
   "metadata": {},
   "outputs": [
    {
     "data": {
      "text/html": [
       "<div>\n",
       "<style scoped>\n",
       "    .dataframe tbody tr th:only-of-type {\n",
       "        vertical-align: middle;\n",
       "    }\n",
       "\n",
       "    .dataframe tbody tr th {\n",
       "        vertical-align: top;\n",
       "    }\n",
       "\n",
       "    .dataframe thead th {\n",
       "        text-align: right;\n",
       "    }\n",
       "</style>\n",
       "<table border=\"1\" class=\"dataframe\">\n",
       "  <thead>\n",
       "    <tr style=\"text-align: right;\">\n",
       "      <th></th>\n",
       "      <th>0</th>\n",
       "      <th>1</th>\n",
       "    </tr>\n",
       "  </thead>\n",
       "  <tbody>\n",
       "    <tr>\n",
       "      <th>0</th>\n",
       "      <td>[34.14892</td>\n",
       "      <td>-118.0632]</td>\n",
       "    </tr>\n",
       "    <tr>\n",
       "      <th>1</th>\n",
       "      <td>[34.14892</td>\n",
       "      <td>-118.0632]</td>\n",
       "    </tr>\n",
       "    <tr>\n",
       "      <th>2</th>\n",
       "      <td>[33.97027</td>\n",
       "      <td>-118.3747]</td>\n",
       "    </tr>\n",
       "    <tr>\n",
       "      <th>3</th>\n",
       "      <td>[33.97027</td>\n",
       "      <td>-118.3747]</td>\n",
       "    </tr>\n",
       "    <tr>\n",
       "      <th>4</th>\n",
       "      <td>[33.97577</td>\n",
       "      <td>-118.3852]</td>\n",
       "    </tr>\n",
       "  </tbody>\n",
       "</table>\n",
       "</div>"
      ],
      "text/plain": [
       "           0            1\n",
       "0  [34.14892   -118.0632]\n",
       "1  [34.14892   -118.0632]\n",
       "2  [33.97027   -118.3747]\n",
       "3  [33.97027   -118.3747]\n",
       "4  [33.97577   -118.3852]"
      ]
     },
     "execution_count": 14,
     "metadata": {},
     "output_type": "execute_result"
    }
   ],
   "source": [
    "tweepy_split = tweepy['Coordinates'].str.split(\",\", n=1, expand=True)\n",
    "tweepy_split.head()"
   ]
  },
  {
   "cell_type": "code",
   "execution_count": 15,
   "metadata": {},
   "outputs": [
    {
     "data": {
      "text/html": [
       "<div>\n",
       "<style scoped>\n",
       "    .dataframe tbody tr th:only-of-type {\n",
       "        vertical-align: middle;\n",
       "    }\n",
       "\n",
       "    .dataframe tbody tr th {\n",
       "        vertical-align: top;\n",
       "    }\n",
       "\n",
       "    .dataframe thead th {\n",
       "        text-align: right;\n",
       "    }\n",
       "</style>\n",
       "<table border=\"1\" class=\"dataframe\">\n",
       "  <thead>\n",
       "    <tr style=\"text-align: right;\">\n",
       "      <th></th>\n",
       "      <th>Full Text</th>\n",
       "      <th>Author</th>\n",
       "      <th>Coordinates</th>\n",
       "      <th>Hashtags</th>\n",
       "      <th>Creation Time</th>\n",
       "      <th>latitude</th>\n",
       "      <th>longitude</th>\n",
       "    </tr>\n",
       "  </thead>\n",
       "  <tbody>\n",
       "    <tr>\n",
       "      <th>0</th>\n",
       "      <td>A crash is blocking the carpool lane. in #Arca...</td>\n",
       "      <td>TotalTrafficLA</td>\n",
       "      <td>[34.14892, -118.0632]</td>\n",
       "      <td>['Arcadia']</td>\n",
       "      <td>2019-07-29 16:23:49</td>\n",
       "      <td>[34.14892</td>\n",
       "      <td>-118.0632]</td>\n",
       "    </tr>\n",
       "    <tr>\n",
       "      <th>1</th>\n",
       "      <td>A crash is blocking the carpool lane. in #Arca...</td>\n",
       "      <td>TotalTrafficLA</td>\n",
       "      <td>[34.14892, -118.0632]</td>\n",
       "      <td>['Arcadia', 'LAtraffic']</td>\n",
       "      <td>2019-07-29 16:12:13</td>\n",
       "      <td>[34.14892</td>\n",
       "      <td>-118.0632]</td>\n",
       "    </tr>\n",
       "    <tr>\n",
       "      <th>2</th>\n",
       "      <td>A motorcycle crash was moved to the right shou...</td>\n",
       "      <td>TotalTrafficLA</td>\n",
       "      <td>[33.97027, -118.3747]</td>\n",
       "      <td>['Westchester']</td>\n",
       "      <td>2019-07-29 15:19:49</td>\n",
       "      <td>[33.97027</td>\n",
       "      <td>-118.3747]</td>\n",
       "    </tr>\n",
       "    <tr>\n",
       "      <th>3</th>\n",
       "      <td>A motorcycle crash is blocking the left lane. ...</td>\n",
       "      <td>TotalTrafficLA</td>\n",
       "      <td>[33.97027, -118.3747]</td>\n",
       "      <td>['Westchester']</td>\n",
       "      <td>2019-07-29 14:53:08</td>\n",
       "      <td>[33.97027</td>\n",
       "      <td>-118.3747]</td>\n",
       "    </tr>\n",
       "    <tr>\n",
       "      <th>4</th>\n",
       "      <td>A motorcycle crash is blocking the left lane. ...</td>\n",
       "      <td>TotalTrafficLA</td>\n",
       "      <td>[33.97577, -118.3852]</td>\n",
       "      <td>['CulverCity', 'LAtraffic']</td>\n",
       "      <td>2019-07-29 14:43:22</td>\n",
       "      <td>[33.97577</td>\n",
       "      <td>-118.3852]</td>\n",
       "    </tr>\n",
       "  </tbody>\n",
       "</table>\n",
       "</div>"
      ],
      "text/plain": [
       "                                           Full Text          Author  \\\n",
       "0  A crash is blocking the carpool lane. in #Arca...  TotalTrafficLA   \n",
       "1  A crash is blocking the carpool lane. in #Arca...  TotalTrafficLA   \n",
       "2  A motorcycle crash was moved to the right shou...  TotalTrafficLA   \n",
       "3  A motorcycle crash is blocking the left lane. ...  TotalTrafficLA   \n",
       "4  A motorcycle crash is blocking the left lane. ...  TotalTrafficLA   \n",
       "\n",
       "             Coordinates                     Hashtags        Creation Time  \\\n",
       "0  [34.14892, -118.0632]                  ['Arcadia']  2019-07-29 16:23:49   \n",
       "1  [34.14892, -118.0632]     ['Arcadia', 'LAtraffic']  2019-07-29 16:12:13   \n",
       "2  [33.97027, -118.3747]              ['Westchester']  2019-07-29 15:19:49   \n",
       "3  [33.97027, -118.3747]              ['Westchester']  2019-07-29 14:53:08   \n",
       "4  [33.97577, -118.3852]  ['CulverCity', 'LAtraffic']  2019-07-29 14:43:22   \n",
       "\n",
       "    latitude    longitude  \n",
       "0  [34.14892   -118.0632]  \n",
       "1  [34.14892   -118.0632]  \n",
       "2  [33.97027   -118.3747]  \n",
       "3  [33.97027   -118.3747]  \n",
       "4  [33.97577   -118.3852]  "
      ]
     },
     "execution_count": 15,
     "metadata": {},
     "output_type": "execute_result"
    }
   ],
   "source": [
    "tweepy['latitude']= tweepy_split[0]\n",
    "tweepy['longitude'] = tweepy_split[1]\n",
    "tweepy.head()"
   ]
  },
  {
   "cell_type": "code",
   "execution_count": 16,
   "metadata": {},
   "outputs": [],
   "source": [
    "tweepy['latitude'] = tweepy['latitude'].str.strip('[').astype(float)"
   ]
  },
  {
   "cell_type": "code",
   "execution_count": 17,
   "metadata": {},
   "outputs": [],
   "source": [
    "tweepy['longitude'] = tweepy['longitude'].str.strip(']').astype(float)"
   ]
  },
  {
   "cell_type": "code",
   "execution_count": 18,
   "metadata": {},
   "outputs": [
    {
     "data": {
      "text/html": [
       "<div>\n",
       "<style scoped>\n",
       "    .dataframe tbody tr th:only-of-type {\n",
       "        vertical-align: middle;\n",
       "    }\n",
       "\n",
       "    .dataframe tbody tr th {\n",
       "        vertical-align: top;\n",
       "    }\n",
       "\n",
       "    .dataframe thead th {\n",
       "        text-align: right;\n",
       "    }\n",
       "</style>\n",
       "<table border=\"1\" class=\"dataframe\">\n",
       "  <thead>\n",
       "    <tr style=\"text-align: right;\">\n",
       "      <th></th>\n",
       "      <th>Full Text</th>\n",
       "      <th>Author</th>\n",
       "      <th>Coordinates</th>\n",
       "      <th>Hashtags</th>\n",
       "      <th>Creation Time</th>\n",
       "      <th>latitude</th>\n",
       "      <th>longitude</th>\n",
       "    </tr>\n",
       "  </thead>\n",
       "  <tbody>\n",
       "    <tr>\n",
       "      <th>0</th>\n",
       "      <td>A crash is blocking the carpool lane. in #Arca...</td>\n",
       "      <td>TotalTrafficLA</td>\n",
       "      <td>[34.14892, -118.0632]</td>\n",
       "      <td>['Arcadia']</td>\n",
       "      <td>2019-07-29 16:23:49</td>\n",
       "      <td>34.14892</td>\n",
       "      <td>-118.0632</td>\n",
       "    </tr>\n",
       "    <tr>\n",
       "      <th>1</th>\n",
       "      <td>A crash is blocking the carpool lane. in #Arca...</td>\n",
       "      <td>TotalTrafficLA</td>\n",
       "      <td>[34.14892, -118.0632]</td>\n",
       "      <td>['Arcadia', 'LAtraffic']</td>\n",
       "      <td>2019-07-29 16:12:13</td>\n",
       "      <td>34.14892</td>\n",
       "      <td>-118.0632</td>\n",
       "    </tr>\n",
       "    <tr>\n",
       "      <th>2</th>\n",
       "      <td>A motorcycle crash was moved to the right shou...</td>\n",
       "      <td>TotalTrafficLA</td>\n",
       "      <td>[33.97027, -118.3747]</td>\n",
       "      <td>['Westchester']</td>\n",
       "      <td>2019-07-29 15:19:49</td>\n",
       "      <td>33.97027</td>\n",
       "      <td>-118.3747</td>\n",
       "    </tr>\n",
       "    <tr>\n",
       "      <th>3</th>\n",
       "      <td>A motorcycle crash is blocking the left lane. ...</td>\n",
       "      <td>TotalTrafficLA</td>\n",
       "      <td>[33.97027, -118.3747]</td>\n",
       "      <td>['Westchester']</td>\n",
       "      <td>2019-07-29 14:53:08</td>\n",
       "      <td>33.97027</td>\n",
       "      <td>-118.3747</td>\n",
       "    </tr>\n",
       "    <tr>\n",
       "      <th>4</th>\n",
       "      <td>A motorcycle crash is blocking the left lane. ...</td>\n",
       "      <td>TotalTrafficLA</td>\n",
       "      <td>[33.97577, -118.3852]</td>\n",
       "      <td>['CulverCity', 'LAtraffic']</td>\n",
       "      <td>2019-07-29 14:43:22</td>\n",
       "      <td>33.97577</td>\n",
       "      <td>-118.3852</td>\n",
       "    </tr>\n",
       "  </tbody>\n",
       "</table>\n",
       "</div>"
      ],
      "text/plain": [
       "                                           Full Text          Author  \\\n",
       "0  A crash is blocking the carpool lane. in #Arca...  TotalTrafficLA   \n",
       "1  A crash is blocking the carpool lane. in #Arca...  TotalTrafficLA   \n",
       "2  A motorcycle crash was moved to the right shou...  TotalTrafficLA   \n",
       "3  A motorcycle crash is blocking the left lane. ...  TotalTrafficLA   \n",
       "4  A motorcycle crash is blocking the left lane. ...  TotalTrafficLA   \n",
       "\n",
       "             Coordinates                     Hashtags        Creation Time  \\\n",
       "0  [34.14892, -118.0632]                  ['Arcadia']  2019-07-29 16:23:49   \n",
       "1  [34.14892, -118.0632]     ['Arcadia', 'LAtraffic']  2019-07-29 16:12:13   \n",
       "2  [33.97027, -118.3747]              ['Westchester']  2019-07-29 15:19:49   \n",
       "3  [33.97027, -118.3747]              ['Westchester']  2019-07-29 14:53:08   \n",
       "4  [33.97577, -118.3852]  ['CulverCity', 'LAtraffic']  2019-07-29 14:43:22   \n",
       "\n",
       "   latitude  longitude  \n",
       "0  34.14892  -118.0632  \n",
       "1  34.14892  -118.0632  \n",
       "2  33.97027  -118.3747  \n",
       "3  33.97027  -118.3747  \n",
       "4  33.97577  -118.3852  "
      ]
     },
     "execution_count": 18,
     "metadata": {},
     "output_type": "execute_result"
    }
   ],
   "source": [
    "tweepy.head()"
   ]
  },
  {
   "cell_type": "code",
   "execution_count": 19,
   "metadata": {},
   "outputs": [
    {
     "data": {
      "application/vnd.jupyter.widget-view+json": {
       "model_id": "8e8ac036f42740caafd7520ad518d955",
       "version_major": 2,
       "version_minor": 0
      },
      "text/plain": [
       "Figure(layout=FigureLayout(height='420px'))"
      ]
     },
     "metadata": {},
     "output_type": "display_data"
    }
   ],
   "source": [
    "malibu_coordinates = (34.33, -118.51)\n",
    "gmaps.figure(center=malibu_coordinates, zoom_level=12)"
   ]
  },
  {
   "cell_type": "code",
   "execution_count": 20,
   "metadata": {},
   "outputs": [],
   "source": [
    "tweepy_coords = tweepy[['latitude', 'longitude']]"
   ]
  },
  {
   "cell_type": "code",
   "execution_count": 21,
   "metadata": {},
   "outputs": [
    {
     "data": {
      "text/plain": [
       "latitude     float64\n",
       "longitude    float64\n",
       "dtype: object"
      ]
     },
     "execution_count": 21,
     "metadata": {},
     "output_type": "execute_result"
    }
   ],
   "source": [
    "tweepy_coords.dtypes"
   ]
  },
  {
   "cell_type": "code",
   "execution_count": 22,
   "metadata": {
    "scrolled": true
   },
   "outputs": [
    {
     "data": {
      "application/vnd.jupyter.widget-view+json": {
       "model_id": "c6d6e3356ca54266aa6d1728bdad7ae7",
       "version_major": 2,
       "version_minor": 0
      },
      "text/plain": [
       "Figure(layout=FigureLayout(height='420px'))"
      ]
     },
     "metadata": {},
     "output_type": "display_data"
    }
   ],
   "source": [
    "\n",
    "tweepy_layer = gmaps.symbol_layer(\n",
    "    tweepy_coords, fill_color='red', stroke_color='red', scale=2\n",
    ")\n",
    "fig = gmaps.figure()\n",
    "fig.add_layer(tweepy_layer)\n",
    "fig"
   ]
  },
  {
   "cell_type": "code",
   "execution_count": 23,
   "metadata": {},
   "outputs": [
    {
     "data": {
      "application/vnd.jupyter.widget-view+json": {
       "model_id": "ec93d8e8cfb3416b9471b7226b10c149",
       "version_major": 2,
       "version_minor": 0
      },
      "text/plain": [
       "Figure(layout=FigureLayout(height='420px'))"
      ]
     },
     "metadata": {},
     "output_type": "display_data"
    }
   ],
   "source": [
    "here_layer = gmaps.symbol_layer(\n",
    "    here_coords, fill_color='red', stroke_color='red', scale=2\n",
    ")\n",
    "fig = gmaps.figure()\n",
    "fig.add_layer(here_layer)\n",
    "fig"
   ]
  },
  {
   "cell_type": "code",
   "execution_count": null,
   "metadata": {},
   "outputs": [],
   "source": []
  }
 ],
 "metadata": {
  "kernelspec": {
   "display_name": "Python 3",
   "language": "python",
   "name": "python3"
  },
  "language_info": {
   "codemirror_mode": {
    "name": "ipython",
    "version": 3
   },
   "file_extension": ".py",
   "mimetype": "text/x-python",
   "name": "python",
   "nbconvert_exporter": "python",
   "pygments_lexer": "ipython3",
   "version": "3.7.3"
  }
 },
 "nbformat": 4,
 "nbformat_minor": 2
}
