{
 "cells": [
  {
   "cell_type": "code",
   "execution_count": 1,
   "metadata": {},
   "outputs": [],
   "source": [
    "import pandas as pd"
   ]
  },
  {
   "cell_type": "code",
   "execution_count": 2,
   "metadata": {},
   "outputs": [],
   "source": [
    "df = pd.read_csv(\"current_excluded_tweets.csv\")"
   ]
  },
  {
   "cell_type": "code",
   "execution_count": 3,
   "metadata": {},
   "outputs": [
    {
     "data": {
      "text/html": [
       "<div>\n",
       "<style scoped>\n",
       "    .dataframe tbody tr th:only-of-type {\n",
       "        vertical-align: middle;\n",
       "    }\n",
       "\n",
       "    .dataframe tbody tr th {\n",
       "        vertical-align: top;\n",
       "    }\n",
       "\n",
       "    .dataframe thead th {\n",
       "        text-align: right;\n",
       "    }\n",
       "</style>\n",
       "<table border=\"1\" class=\"dataframe\">\n",
       "  <thead>\n",
       "    <tr style=\"text-align: right;\">\n",
       "      <th></th>\n",
       "      <th>Full Text</th>\n",
       "      <th>Author</th>\n",
       "      <th>Creation Time</th>\n",
       "      <th>Hashtags</th>\n",
       "      <th>text</th>\n",
       "      <th>is_road_closure</th>\n",
       "    </tr>\n",
       "  </thead>\n",
       "  <tbody>\n",
       "    <tr>\n",
       "      <th>0</th>\n",
       "      <td>Autumn Sun | sailor_marimoon soaking up some g...</td>\n",
       "      <td>StormulaOne</td>\n",
       "      <td>Fri Nov 30 20:16:20 +0000 2018</td>\n",
       "      <td>NaN</td>\n",
       "      <td>autumn sun sailor marimoon soaking up some gol...</td>\n",
       "      <td>0</td>\n",
       "    </tr>\n",
       "    <tr>\n",
       "      <th>1</th>\n",
       "      <td>!!woolsey fire!! all lanes shutdown until furt...</td>\n",
       "      <td>TotalTrafficLA</td>\n",
       "      <td>Fri Nov 30 12:16:39 +0000 2018</td>\n",
       "      <td>#Malibu #LAtraffic</td>\n",
       "      <td>woolsey fire all lane shutdown until further n...</td>\n",
       "      <td>1</td>\n",
       "    </tr>\n",
       "    <tr>\n",
       "      <th>2</th>\n",
       "      <td>!!woolsey fire!! all lanes shutdown until furt...</td>\n",
       "      <td>TotalTrafficLA</td>\n",
       "      <td>Fri Nov 30 12:16:38 +0000 2018</td>\n",
       "      <td>#Malibu #LAtraffic</td>\n",
       "      <td>woolsey fire all lane shutdown until further n...</td>\n",
       "      <td>1</td>\n",
       "    </tr>\n",
       "    <tr>\n",
       "      <th>3</th>\n",
       "      <td>Nov 8th the Woolsey fire broke out and burned ...</td>\n",
       "      <td>irishcntrychic3</td>\n",
       "      <td>Fri Nov 30 04:18:35 +0000 2018</td>\n",
       "      <td>NaN</td>\n",
       "      <td>nov 8th the woolsey fire broke out and burned ...</td>\n",
       "      <td>0</td>\n",
       "    </tr>\n",
       "    <tr>\n",
       "      <th>4</th>\n",
       "      <td>Yes! This is one of the groups the boys &amp; I he...</td>\n",
       "      <td>BondKathi</td>\n",
       "      <td>Thu Nov 29 05:01:38 +0000 2018</td>\n",
       "      <td>#Repost</td>\n",
       "      <td>yes this is one of the group the boy i helped ...</td>\n",
       "      <td>0</td>\n",
       "    </tr>\n",
       "  </tbody>\n",
       "</table>\n",
       "</div>"
      ],
      "text/plain": [
       "                                           Full Text           Author  \\\n",
       "0  Autumn Sun | sailor_marimoon soaking up some g...      StormulaOne   \n",
       "1  !!woolsey fire!! all lanes shutdown until furt...   TotalTrafficLA   \n",
       "2  !!woolsey fire!! all lanes shutdown until furt...   TotalTrafficLA   \n",
       "3  Nov 8th the Woolsey fire broke out and burned ...  irishcntrychic3   \n",
       "4  Yes! This is one of the groups the boys & I he...        BondKathi   \n",
       "\n",
       "                    Creation Time            Hashtags  \\\n",
       "0  Fri Nov 30 20:16:20 +0000 2018                 NaN   \n",
       "1  Fri Nov 30 12:16:39 +0000 2018  #Malibu #LAtraffic   \n",
       "2  Fri Nov 30 12:16:38 +0000 2018  #Malibu #LAtraffic   \n",
       "3  Fri Nov 30 04:18:35 +0000 2018                 NaN   \n",
       "4  Thu Nov 29 05:01:38 +0000 2018             #Repost   \n",
       "\n",
       "                                                text  is_road_closure  \n",
       "0  autumn sun sailor marimoon soaking up some gol...                0  \n",
       "1  woolsey fire all lane shutdown until further n...                1  \n",
       "2  woolsey fire all lane shutdown until further n...                1  \n",
       "3  nov 8th the woolsey fire broke out and burned ...                0  \n",
       "4  yes this is one of the group the boy i helped ...                0  "
      ]
     },
     "execution_count": 3,
     "metadata": {},
     "output_type": "execute_result"
    }
   ],
   "source": [
    "df.head()"
   ]
  },
  {
   "cell_type": "code",
   "execution_count": 4,
   "metadata": {},
   "outputs": [
    {
     "data": {
      "text/plain": [
       "0       Autumn Sun | sailor_marimoon soaking up some g...\n",
       "1       !!woolsey fire!! all lanes shutdown until furt...\n",
       "2       !!woolsey fire!! all lanes shutdown until furt...\n",
       "3       Nov 8th the Woolsey fire broke out and burned ...\n",
       "4       Yes! This is one of the groups the boys & I he...\n",
       "5       Today was Matthew’s first day back at school s...\n",
       "6       !!woolsey fire!! all lanes shutdown until furt...\n",
       "7       In awe of the resilience of #agourahills fores...\n",
       "8       #malibufires #wearesafe #woosleyfire #malibufi...\n",
       "9       Free Clothing and Footwear For Malibu Resident...\n",
       "10      Tables and chairs are setup for tomorrow night...\n",
       "11      This video of the Woolsey Fire blasting throug...\n",
       "12      The Woolsey Fire was mean and nasty #woosleyfi...\n",
       "13      WED NOV 28, 2018 To all fire victims who have ...\n",
       "14      Woolsey Fire: The Aftermath. 3 people dead. 97...\n",
       "15      We went to see what was left of #leocarrillo o...\n",
       "16      Complete devastation from the Woolsey fire in ...\n",
       "17      And it’s all done #raiders #raidernation #jean...\n",
       "18      As this Thanksgiving weekend comes to an end, ...\n",
       "19      Taking a moment to be #thankful that our famil...\n",
       "20      Everyone wish @mileycyrus a happy birthday tod...\n",
       "21      @cafegratitude served donation-based meals whe...\n",
       "22      Just finished a little #run in the Santa Monic...\n",
       "23      Ashes Woolsey Fire @Agoura Hills, California h...\n",
       "24      Just saw this foursome hanging out at Station ...\n",
       "25      Currently stationed at the Woolsey Fire Recove...\n",
       "26      !! #woolseyfire closure !! road closed due to ...\n",
       "27      Post #californiafires the calm before the stor...\n",
       "28      !! #woolseyfire closure !! road closed due to ...\n",
       "29      We have an incredible roster of musicians help...\n",
       "                              ...                        \n",
       "1934    Camarillo Springs is on Fire @Camarillo, Calif...\n",
       "1935    ANOTHER FIRE @Halaco Superfund Site https://ww...\n",
       "1936    Gnarly day in Thousand Oaks -from the mass sho...\n",
       "1937    It’s been quite a day out here. #fire #borderg...\n",
       "1938    My one kill and Dom’s great pickup when Kelley...\n",
       "1939    All lanes shutdown in both directions for a br...\n",
       "1940    2 Fires today One in Newbury Park & another on...\n",
       "1941    Now we have a fire. What a day. One free exit ...\n",
       "1942    New strain alert #whitewidow is a topshelf #sa...\n",
       "1943    All lanes shutdown in both directions for a br...\n",
       "1944    Fire in the Sky @Los Angeles, California https...\n",
       "1945    Fireeee!!!! #newburypark #fire @Newbury Park, ...\n",
       "1946    MY CLIENT afilipinabaddie HOOKED THIS PORTRAIT...\n",
       "1947    In honor of Sergeant Ron Helus. Thank you for ...\n",
       "1948    I was out last night with friends having a qui...\n",
       "1949    Just in: Refinished 1970s #papertrays are land...\n",
       "1950    A car is on fire on the right shoulder. in #Ho...\n",
       "1951    A car is on fire on the right shoulder. in #Ho...\n",
       "1952    Hello Whittier... THOUSAND OAKS, Calif. — A ma...\n",
       "1953    jmcneilstudios #tbt “I Want My Fire” #cinespac...\n",
       "1954    I'm at Los Angeles Fire Department EPI-Center ...\n",
       "1955    I'm at @LAFD Fire Station 4 in Los Angeles, CA...\n",
       "1956    From Kids MMA to Adult Muay Thai tonight was o...\n",
       "1957    Fire! I bid you to burn! #selfie artattherendo...\n",
       "1958    @Roseanney7 I heard you at our NAWIC Installat...\n",
       "1959    ____________ Within the Fire Below the Water _...\n",
       "1960    Late post Family just a reminder that every We...\n",
       "1961    You say love is blind, but that’s just some bu...\n",
       "1962    Goyan keshk aqbat taskeen ast, Awal shor ast a...\n",
       "1963    Me and @insomniacjeez wanna drop this song but...\n",
       "Name: Full Text, Length: 1964, dtype: object"
      ]
     },
     "execution_count": 4,
     "metadata": {},
     "output_type": "execute_result"
    }
   ],
   "source": [
    "df[\"Full Text\"]"
   ]
  },
  {
   "cell_type": "code",
   "execution_count": 1,
   "metadata": {},
   "outputs": [
    {
     "name": "stderr",
     "output_type": "stream",
     "text": [
      "/Users/christopherthompson/anaconda3/lib/python3.6/site-packages/ipykernel_launcher.py:2: DeprecationWarning: Using Nominatim with the default \"geopy/1.20.0\" `user_agent` is strongly discouraged, as it violates Nominatim's ToS https://operations.osmfoundation.org/policies/nominatim/ and may possibly cause 403 and 429 HTTP errors. Please specify a custom `user_agent` with `Nominatim(user_agent=\"my-application\")` or by overriding the default `user_agent`: `geopy.geocoders.options.default_user_agent = \"my-application\"`. In geopy 2.0 this will become an exception.\n",
      "  \n"
     ]
    }
   ],
   "source": [
    "from geopy.geocoders import Nominatim\n",
    "geolocator = Nominatim()\n",
    "import numpy as np"
   ]
  },
  {
   "cell_type": "code",
   "execution_count": 4,
   "metadata": {},
   "outputs": [
    {
     "ename": "SyntaxError",
     "evalue": "invalid syntax (<ipython-input-4-78eb9a7f64fa>, line 1)",
     "output_type": "error",
     "traceback": [
      "\u001b[0;36m  File \u001b[0;32m\"<ipython-input-4-78eb9a7f64fa>\"\u001b[0;36m, line \u001b[0;32m1\u001b[0m\n\u001b[0;31m    def geolocate(address=None, city=None, country = United States):\u001b[0m\n\u001b[0m                                                                 ^\u001b[0m\n\u001b[0;31mSyntaxError\u001b[0m\u001b[0;31m:\u001b[0m invalid syntax\n"
     ]
    }
   ],
   "source": [
    "def geolocate(address=None, city=None, country = United States):\n",
    "    \n",
    "    if city != None:\n",
    "        try:\n",
    "            \n",
    "            loc = geolocator.geocode(str(address + \",\"city + \",\" + country))\n",
    "            return (loc.latitude, loc.longitude)\n",
    "        except:\n",
    "            return np.nan\n",
    "        else:\n",
    "            try:\n",
    "                loc = geolocator.geocode(country)\n",
    "                return (loc.latitude, loc.longitude)\n",
    "            except:\n",
    "                return np.nan"
   ]
  },
  {
   "cell_type": "code",
   "execution_count": 5,
   "metadata": {},
   "outputs": [],
   "source": [
    "def route(start_point=None, end_point=None):\n",
    "    \n",
    "    if start_point != None:\n",
    "        try:\n",
    "            \n",
    "            loc = geolocator.geocode(str(start_point))\n",
    "            return (loc.latitude, loc.longitude)\n",
    "        except:\n",
    "            return np.nan\n",
    "        else:\n",
    "            try:\n",
    "                loc = geolocator.geocode(str(end_point))\n",
    "                return (loc.latitude, loc.longitude)\n",
    "            except:\n",
    "                return np.nan"
   ]
  },
  {
   "cell_type": "code",
   "execution_count": null,
   "metadata": {},
   "outputs": [],
   "source": [
    "route(United S)"
   ]
  }
 ],
 "metadata": {
  "kernelspec": {
   "display_name": "Python 3",
   "language": "python",
   "name": "python3"
  },
  "language_info": {
   "codemirror_mode": {
    "name": "ipython",
    "version": 3
   },
   "file_extension": ".py",
   "mimetype": "text/x-python",
   "name": "python",
   "nbconvert_exporter": "python",
   "pygments_lexer": "ipython3",
   "version": "3.6.8"
  }
 },
 "nbformat": 4,
 "nbformat_minor": 2
}
