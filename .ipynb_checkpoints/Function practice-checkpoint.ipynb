{
 "cells": [
  {
   "cell_type": "code",
   "execution_count": 1,
   "metadata": {},
   "outputs": [],
   "source": [
    "import pandas as pd"
   ]
  },
  {
   "cell_type": "code",
   "execution_count": 2,
   "metadata": {},
   "outputs": [],
   "source": [
    "df = pd.read_csv(\"current_excluded_tweets.csv\")"
   ]
  },
  {
   "cell_type": "code",
   "execution_count": 3,
   "metadata": {},
   "outputs": [
    {
     "data": {
      "text/html": [
       "<div>\n",
       "<style scoped>\n",
       "    .dataframe tbody tr th:only-of-type {\n",
       "        vertical-align: middle;\n",
       "    }\n",
       "\n",
       "    .dataframe tbody tr th {\n",
       "        vertical-align: top;\n",
       "    }\n",
       "\n",
       "    .dataframe thead th {\n",
       "        text-align: right;\n",
       "    }\n",
       "</style>\n",
       "<table border=\"1\" class=\"dataframe\">\n",
       "  <thead>\n",
       "    <tr style=\"text-align: right;\">\n",
       "      <th></th>\n",
       "      <th>Full Text</th>\n",
       "      <th>Author</th>\n",
       "      <th>Creation Time</th>\n",
       "      <th>Hashtags</th>\n",
       "      <th>text</th>\n",
       "      <th>is_road_closure</th>\n",
       "    </tr>\n",
       "  </thead>\n",
       "  <tbody>\n",
       "    <tr>\n",
       "      <th>0</th>\n",
       "      <td>Autumn Sun | sailor_marimoon soaking up some g...</td>\n",
       "      <td>StormulaOne</td>\n",
       "      <td>Fri Nov 30 20:16:20 +0000 2018</td>\n",
       "      <td>NaN</td>\n",
       "      <td>autumn sun sailor marimoon soaking up some gol...</td>\n",
       "      <td>0</td>\n",
       "    </tr>\n",
       "    <tr>\n",
       "      <th>1</th>\n",
       "      <td>!!woolsey fire!! all lanes shutdown until furt...</td>\n",
       "      <td>TotalTrafficLA</td>\n",
       "      <td>Fri Nov 30 12:16:39 +0000 2018</td>\n",
       "      <td>#Malibu #LAtraffic</td>\n",
       "      <td>woolsey fire all lane shutdown until further n...</td>\n",
       "      <td>1</td>\n",
       "    </tr>\n",
       "    <tr>\n",
       "      <th>2</th>\n",
       "      <td>!!woolsey fire!! all lanes shutdown until furt...</td>\n",
       "      <td>TotalTrafficLA</td>\n",
       "      <td>Fri Nov 30 12:16:38 +0000 2018</td>\n",
       "      <td>#Malibu #LAtraffic</td>\n",
       "      <td>woolsey fire all lane shutdown until further n...</td>\n",
       "      <td>1</td>\n",
       "    </tr>\n",
       "    <tr>\n",
       "      <th>3</th>\n",
       "      <td>Nov 8th the Woolsey fire broke out and burned ...</td>\n",
       "      <td>irishcntrychic3</td>\n",
       "      <td>Fri Nov 30 04:18:35 +0000 2018</td>\n",
       "      <td>NaN</td>\n",
       "      <td>nov 8th the woolsey fire broke out and burned ...</td>\n",
       "      <td>0</td>\n",
       "    </tr>\n",
       "    <tr>\n",
       "      <th>4</th>\n",
       "      <td>Yes! This is one of the groups the boys &amp; I he...</td>\n",
       "      <td>BondKathi</td>\n",
       "      <td>Thu Nov 29 05:01:38 +0000 2018</td>\n",
       "      <td>#Repost</td>\n",
       "      <td>yes this is one of the group the boy i helped ...</td>\n",
       "      <td>0</td>\n",
       "    </tr>\n",
       "  </tbody>\n",
       "</table>\n",
       "</div>"
      ],
      "text/plain": [
       "                                           Full Text           Author  \\\n",
       "0  Autumn Sun | sailor_marimoon soaking up some g...      StormulaOne   \n",
       "1  !!woolsey fire!! all lanes shutdown until furt...   TotalTrafficLA   \n",
       "2  !!woolsey fire!! all lanes shutdown until furt...   TotalTrafficLA   \n",
       "3  Nov 8th the Woolsey fire broke out and burned ...  irishcntrychic3   \n",
       "4  Yes! This is one of the groups the boys & I he...        BondKathi   \n",
       "\n",
       "                    Creation Time            Hashtags  \\\n",
       "0  Fri Nov 30 20:16:20 +0000 2018                 NaN   \n",
       "1  Fri Nov 30 12:16:39 +0000 2018  #Malibu #LAtraffic   \n",
       "2  Fri Nov 30 12:16:38 +0000 2018  #Malibu #LAtraffic   \n",
       "3  Fri Nov 30 04:18:35 +0000 2018                 NaN   \n",
       "4  Thu Nov 29 05:01:38 +0000 2018             #Repost   \n",
       "\n",
       "                                                text  is_road_closure  \n",
       "0  autumn sun sailor marimoon soaking up some gol...                0  \n",
       "1  woolsey fire all lane shutdown until further n...                1  \n",
       "2  woolsey fire all lane shutdown until further n...                1  \n",
       "3  nov 8th the woolsey fire broke out and burned ...                0  \n",
       "4  yes this is one of the group the boy i helped ...                0  "
      ]
     },
     "execution_count": 3,
     "metadata": {},
     "output_type": "execute_result"
    }
   ],
   "source": [
    "df.head()"
   ]
  },
  {
   "cell_type": "code",
   "execution_count": 22,
   "metadata": {},
   "outputs": [
    {
     "ename": "NameError",
     "evalue": "name 'df' is not defined",
     "output_type": "error",
     "traceback": [
      "\u001b[0;31m---------------------------------------------------------------------------\u001b[0m",
      "\u001b[0;31mNameError\u001b[0m                                 Traceback (most recent call last)",
      "\u001b[0;32m<ipython-input-22-050885a6851c>\u001b[0m in \u001b[0;36m<module>\u001b[0;34m\u001b[0m\n\u001b[0;32m----> 1\u001b[0;31m \u001b[0mdf\u001b[0m\u001b[0;34m[\u001b[0m\u001b[0;34m\"Full Text\"\u001b[0m\u001b[0;34m]\u001b[0m\u001b[0;34m.\u001b[0m\u001b[0mhead\u001b[0m\u001b[0;34m(\u001b[0m\u001b[0;34m)\u001b[0m\u001b[0;34m\u001b[0m\u001b[0;34m\u001b[0m\u001b[0m\n\u001b[0m",
      "\u001b[0;31mNameError\u001b[0m: name 'df' is not defined"
     ]
    }
   ],
   "source": [
    "df[\"Full Text\"].head()"
   ]
  },
  {
   "cell_type": "code",
   "execution_count": 24,
   "metadata": {},
   "outputs": [
    {
     "name": "stderr",
     "output_type": "stream",
     "text": [
      "/Users/christopherthompson/anaconda3/lib/python3.6/site-packages/ipykernel_launcher.py:2: DeprecationWarning: Using Nominatim with the default \"geopy/1.20.0\" `user_agent` is strongly discouraged, as it violates Nominatim's ToS https://operations.osmfoundation.org/policies/nominatim/ and may possibly cause 403 and 429 HTTP errors. Please specify a custom `user_agent` with `Nominatim(user_agent=\"my-application\")` or by overriding the default `user_agent`: `geopy.geocoders.options.default_user_agent = \"my-application\"`. In geopy 2.0 this will become an exception.\n",
      "  \n"
     ]
    }
   ],
   "source": [
    "from geopy.geocoders import Nominatim\n",
    "geolocator = Nominatim()\n",
    "import numpy as np"
   ]
  },
  {
   "cell_type": "code",
   "execution_count": 6,
   "metadata": {},
   "outputs": [],
   "source": [
    "def geolocate(city=None, country = None):\n",
    "    \n",
    "    if city != None:\n",
    "        try:\n",
    "            \n",
    "            loc = geolocator.geocode(str(city + \",\" + country))\n",
    "            return (loc.latitude, loc.longitude)\n",
    "        except:\n",
    "            return np.nan\n",
    "        else:\n",
    "            try:\n",
    "                loc = geolocator.geocode(country)\n",
    "                return (loc.latitude, loc.longitude)\n",
    "            except:\n",
    "                return np.nan"
   ]
  },
  {
   "cell_type": "code",
   "execution_count": 5,
   "metadata": {},
   "outputs": [],
   "source": [
    "def route(start_point=None, end_point=None):\n",
    "    \n",
    "    if start_point != None:\n",
    "        try:\n",
    "            \n",
    "            loc = geolocator.geocode(str(start_point))\n",
    "            return (loc.latitude, loc.longitude)\n",
    "        except:\n",
    "            return np.nan\n",
    "        else:\n",
    "            try:\n",
    "                loc = geolocator.geocode(str(end_point))\n",
    "                return (loc.latitude, loc.longitude)\n",
    "            except:\n",
    "                return np.nan"
   ]
  },
  {
   "cell_type": "code",
   "execution_count": null,
   "metadata": {},
   "outputs": [],
   "source": [
    "route(start_point=)"
   ]
  },
  {
   "cell_type": "code",
   "execution_count": 7,
   "metadata": {},
   "outputs": [
    {
     "data": {
      "text/plain": [
       "'10'"
      ]
     },
     "execution_count": 7,
     "metadata": {},
     "output_type": "execute_result"
    }
   ],
   "source": [
    "f\"{2 * 5}\""
   ]
  },
  {
   "cell_type": "markdown",
   "metadata": {},
   "source": [
    "## Start and End Function"
   ]
  },
  {
   "cell_type": "code",
   "execution_count": 18,
   "metadata": {},
   "outputs": [],
   "source": [
    "# accept two addresses\n",
    "def router(start_point = None, end_point = None):\n",
    "    # look up the first address to get gps coords\n",
    "    start = geolocator.geocode(start_point)\n",
    "        \n",
    "    # do the same for the second address\n",
    "    end = geolocator.geocode(end_point)\n",
    "    # find the route between the two sets of coords\n",
    "    # define base url\n",
    "    url = \"https://maps.googleapis.com/maps/api/directions/json\"\n",
    "    # define a parameter dictionary including API key origin & dest.\n",
    "    params = {\n",
    "         \"origin\" : f\"{start.latitude},{start.longitude}\",\n",
    "        \"destination\" : f\"{end.latitude},{end.longitude}\"\n",
    "     }\n",
    "    print(params)\n",
    "    # pass in url and params to reques\n",
    "    # Clean up JSON\n",
    "    # return the route"
   ]
  },
  {
   "cell_type": "code",
   "execution_count": 19,
   "metadata": {},
   "outputs": [
    {
     "name": "stdout",
     "output_type": "stream",
     "text": [
      "{'origin': '34.0440456,-117.8182677', 'destination': '34.0134786395831,-118.495223080606'}\n"
     ]
    }
   ],
   "source": [
    "router(start_point=\"360 E Second Street, Los Angeles, CA\", end_point=\"1520 2nd Street, Santa Monica\")"
   ]
  },
  {
   "cell_type": "markdown",
   "metadata": {},
   "source": [
    "## Single Start Function"
   ]
  },
  {
   "cell_type": "code",
   "execution_count": 25,
   "metadata": {},
   "outputs": [],
   "source": [
    "# accept two addresses\n",
    "def routing(start_point = None):\n",
    "    # look up the first address to get gps coords\n",
    "    start = geolocator.geocode(start_point)\n",
    "        \n",
    "    # do the same for the second address\n",
    "    \n",
    "    # find the route between the two sets of coords\n",
    "    # define base url\n",
    "    url = \"https://maps.googleapis.com/maps/api/directions/json\"\n",
    "    # define a parameter dictionary including API key origin & dest.\n",
    "    params = {\n",
    "         \"origin\" : f\"{start.latitude},{start.longitude}\",\n",
    "        \n",
    "     }\n",
    "    print(params)\n",
    "    # pass in url and params to reques\n",
    "    # Clean up JSON\n",
    "    # return the route"
   ]
  },
  {
   "cell_type": "code",
   "execution_count": 31,
   "metadata": {},
   "outputs": [
    {
     "name": "stdout",
     "output_type": "stream",
     "text": [
      "{'origin': '34.0440456,-117.8182677'}\n"
     ]
    }
   ],
   "source": [
    "routing(start_point=\"360 Second Street, Los Angeles\")"
   ]
  },
  {
   "cell_type": "code",
   "execution_count": null,
   "metadata": {},
   "outputs": [],
   "source": []
  }
 ],
 "metadata": {
  "kernelspec": {
   "display_name": "Python 3",
   "language": "python",
   "name": "python3"
  },
  "language_info": {
   "codemirror_mode": {
    "name": "ipython",
    "version": 3
   },
   "file_extension": ".py",
   "mimetype": "text/x-python",
   "name": "python",
   "nbconvert_exporter": "python",
   "pygments_lexer": "ipython3",
   "version": "3.6.8"
  }
 },
 "nbformat": 4,
 "nbformat_minor": 2
}
