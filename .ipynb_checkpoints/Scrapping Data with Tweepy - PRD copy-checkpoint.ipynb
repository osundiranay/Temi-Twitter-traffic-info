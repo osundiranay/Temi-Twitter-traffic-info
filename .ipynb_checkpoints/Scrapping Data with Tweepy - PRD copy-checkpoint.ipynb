{
 "cells": [
  {
   "cell_type": "markdown",
   "metadata": {},
   "source": [
    "### Imports ###"
   ]
  },
  {
   "cell_type": "code",
   "execution_count": 1,
   "metadata": {},
   "outputs": [],
   "source": [
    "import tweepy\n",
    "import pandas as pd\n",
    "from geopy.geocoders import Nominatim\n",
    "from geopy.distance import geodesic\n",
    "import json"
   ]
  },
  {
   "cell_type": "markdown",
   "metadata": {},
   "source": [
    "### GeoPy Functions / Code ###"
   ]
  },
  {
   "cell_type": "code",
   "execution_count": 2,
   "metadata": {},
   "outputs": [],
   "source": [
    "geolocator = Nominatim(user_agent = \"DSI_US_8_LA\")"
   ]
  },
  {
   "cell_type": "code",
   "execution_count": 3,
   "metadata": {},
   "outputs": [],
   "source": [
    "# Function to take a user-entered address and return it's coordinates\n",
    "def latlong(point):\n",
    "    coord = geolocator.geocode(point)\n",
    "    return (coord.latitude,coord.longitude)"
   ]
  },
  {
   "cell_type": "code",
   "execution_count": 4,
   "metadata": {},
   "outputs": [],
   "source": [
    "cord = latlong('360 East 2nd Street, Los Angeles, CA')"
   ]
  },
  {
   "cell_type": "markdown",
   "metadata": {},
   "source": [
    "### Twitter Authentication / Tweepy Initialization ###"
   ]
  },
  {
   "cell_type": "code",
   "execution_count": 2,
   "metadata": {},
   "outputs": [],
   "source": [
    "json_file = open('twitter_creds.json')\n",
    "json_str = json_file.read()\n",
    "json_data = json.loads(json_str)"
   ]
  },
  {
   "cell_type": "code",
   "execution_count": 5,
   "metadata": {},
   "outputs": [],
   "source": [
    "#Code taken from http://www.dealingdata.net/2016/07/23/PoGo-Series-Tweepy/\n",
    "auth = tweepy.OAuthHandler(json_data['API key'],json_data['API secret key'])\n",
    "auth.set_access_token(json_data['Access token'], json_data['Access token secret'])\n",
    "\n",
    "#Creating a twitter API wrapper using tweepy\n",
    "api = tweepy.API(auth)\n",
    "\n",
    "#Error handling\n",
    "if (not api):\n",
    "    print (\"Problem connecting to API\")"
   ]
  },
  {
   "cell_type": "code",
   "execution_count": 6,
   "metadata": {},
   "outputs": [],
   "source": [
    "#Function to return the hashtags in a tweet\n",
    "def hashtag_process(raw):\n",
    "    if len(raw)==0:\n",
    "        return None\n",
    "    else:\n",
    "        output = []\n",
    "        for x in raw:\n",
    "            if x.get('text') != 'LAtraffic':\n",
    "                output.append(x.get('text'))\n",
    "        return output"
   ]
  },
  {
   "cell_type": "markdown",
   "metadata": {},
   "source": [
    "TweetSearch Function Parameters\n",
    "\n",
    "- location - exact latitude and longitude to start search from, should be the output of latlong function\n",
    "- distance - distance in miles to search for (default is 25)\n",
    "- user - twitter hashtag to pull Tweets from (default is TotalTrafficLA)\n",
    "- limit - number of tweets to initially pull from the user before applying location filtering (default is 100)"
   ]
  },
  {
   "cell_type": "code",
   "execution_count": 7,
   "metadata": {},
   "outputs": [],
   "source": [
    "def TweetSearch(location,distance = 25,user = 'TotalTrafficLA',limit = 100):\n",
    "    full_text = []\n",
    "    author = []\n",
    "    creation_time = []\n",
    "    hashtags = []\n",
    "    geo = []\n",
    "    \n",
    "    for tweet in tweepy.Cursor(api.user_timeline,id=user,tweet_mode='extended').items(limit):\n",
    "        if tweet.geo != None:\n",
    "            if geodesic(location,tweet.geo['coordinates']).miles <= distance:\n",
    "                full_text.append(tweet.full_text)\n",
    "                author.append(tweet.author.screen_name)\n",
    "                creation_time.append(tweet.created_at)\n",
    "                hashtags.append(hashtag_process(tweet.entities['hashtags']))\n",
    "                geo.append(tweet.geo['coordinates'])\n",
    "    \n",
    "    return pd.DataFrame([full_text,author,geo,hashtags,creation_time],\\\n",
    "                        index=['Full Text','Author','Coordinates','Hashtags','Creation Time (UTC)']).T"
   ]
  },
  {
   "cell_type": "code",
   "execution_count": 8,
   "metadata": {},
   "outputs": [],
   "source": [
    "df = TweetSearch(cord,25)"
   ]
  },
  {
   "cell_type": "code",
   "execution_count": 9,
   "metadata": {},
   "outputs": [],
   "source": [
    "df.to_csv('first_scrape.csv',index=False)"
   ]
  }
 ],
 "metadata": {
  "kernelspec": {
   "display_name": "Python 3",
   "language": "python",
   "name": "python3"
  },
  "language_info": {
   "codemirror_mode": {
    "name": "ipython",
    "version": 3
   },
   "file_extension": ".py",
   "mimetype": "text/x-python",
   "name": "python",
   "nbconvert_exporter": "python",
   "pygments_lexer": "ipython3",
   "version": "3.6.8"
  }
 },
 "nbformat": 4,
 "nbformat_minor": 2
}
